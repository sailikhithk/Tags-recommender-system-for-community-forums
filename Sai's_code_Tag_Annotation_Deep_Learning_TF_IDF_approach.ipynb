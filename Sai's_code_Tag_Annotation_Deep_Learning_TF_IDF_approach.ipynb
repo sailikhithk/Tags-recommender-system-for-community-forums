{
  "nbformat": 4,
  "nbformat_minor": 0,
  "metadata": {
    "kernelspec": {
      "display_name": "Python 3",
      "language": "python",
      "name": "python3"
    },
    "language_info": {
      "codemirror_mode": {
        "name": "ipython",
        "version": 3
      },
      "file_extension": ".py",
      "mimetype": "text/x-python",
      "name": "python",
      "nbconvert_exporter": "python",
      "pygments_lexer": "ipython3",
      "version": "3.7.4"
    },
    "colab": {
      "name": "Sai's code- Tag Annotation- Deep_Learning-TF-IDF-approach.ipynb",
      "provenance": [],
      "include_colab_link": true
    }
  },
  "cells": [
    {
      "cell_type": "markdown",
      "metadata": {
        "id": "view-in-github",
        "colab_type": "text"
      },
      "source": [
        "<a href=\"https://colab.research.google.com/github/sailikhithk/Tags-recommender-system-for-community-forums/blob/master/Sai's_code_Tag_Annotation_Deep_Learning_TF_IDF_approach.ipynb\" target=\"_parent\"><img src=\"https://colab.research.google.com/assets/colab-badge.svg\" alt=\"Open In Colab\"/></a>"
      ]
    },
    {
      "cell_type": "code",
      "metadata": {
        "id": "WnJ-nrV7HZmd",
        "colab": {
          "base_uri": "https://localhost:8080/",
          "height": 121
        },
        "outputId": "af3ca397-801b-4c35-d50c-7e2f6181c56a"
      },
      "source": [
        "from google.colab import drive\n",
        "drive.mount('/drive')"
      ],
      "execution_count": null,
      "outputs": [
        {
          "output_type": "stream",
          "text": [
            "Go to this URL in a browser: https://accounts.google.com/o/oauth2/auth?client_id=947318989803-6bn6qk8qdgf4n4g3pfee6491hc0brc4i.apps.googleusercontent.com&redirect_uri=urn%3aietf%3awg%3aoauth%3a2.0%3aoob&scope=email%20https%3a%2f%2fwww.googleapis.com%2fauth%2fdocs.test%20https%3a%2f%2fwww.googleapis.com%2fauth%2fdrive%20https%3a%2f%2fwww.googleapis.com%2fauth%2fdrive.photos.readonly%20https%3a%2f%2fwww.googleapis.com%2fauth%2fpeopleapi.readonly&response_type=code\n",
            "\n",
            "Enter your authorization code:\n",
            "··········\n",
            "Mounted at /drive\n"
          ],
          "name": "stdout"
        }
      ]
    },
    {
      "cell_type": "markdown",
      "metadata": {
        "id": "3tYepmWXn222"
      },
      "source": [
        "#Pre-processing"
      ]
    },
    {
      "cell_type": "code",
      "metadata": {
        "scrolled": true,
        "id": "rq4aqZUBG3AG",
        "colab": {
          "base_uri": "https://localhost:8080/",
          "height": 1000
        },
        "outputId": "3fdeefee-35c6-4711-da2d-4ce33c80ed95"
      },
      "source": [
        "!pip install lime\n",
        "!pip install transformers\n",
        "\n",
        "## for data\n",
        "import scipy\n",
        "import json\n",
        "import pandas as pd\n",
        "import numpy as np\n",
        "\n",
        "## for plotting\n",
        "import matplotlib.pyplot as plt\n",
        "import seaborn as sns\n",
        "\n",
        "## for bag-of-words\n",
        "from sklearn import feature_extraction, model_selection, naive_bayes, pipeline, manifold, preprocessing\n",
        "\n",
        "## for explainer\n",
        "from lime import lime_text\n",
        "\n",
        "## for word embedding\n",
        "import gensim\n",
        "import gensim.downloader as gensim_api\n",
        "\n",
        "## for deep learning\n",
        "from tensorflow.keras import models, layers, preprocessing as kprocessing\n",
        "from tensorflow.keras import backend as K\n",
        "\n",
        "## for bert language model\n",
        "import transformers\n",
        "\n",
        "import re"
      ],
      "execution_count": null,
      "outputs": [
        {
          "output_type": "stream",
          "text": [
            "Collecting lime\n",
            "\u001b[?25l  Downloading https://files.pythonhosted.org/packages/f5/86/91a13127d83d793ecb50eb75e716f76e6eda809b6803c5a4ff462339789e/lime-0.2.0.1.tar.gz (275kB)\n",
            "\r\u001b[K     |█▏                              | 10kB 14.1MB/s eta 0:00:01\r\u001b[K     |██▍                             | 20kB 1.7MB/s eta 0:00:01\r\u001b[K     |███▋                            | 30kB 2.2MB/s eta 0:00:01\r\u001b[K     |████▊                           | 40kB 2.5MB/s eta 0:00:01\r\u001b[K     |██████                          | 51kB 2.0MB/s eta 0:00:01\r\u001b[K     |███████▏                        | 61kB 2.2MB/s eta 0:00:01\r\u001b[K     |████████▎                       | 71kB 2.5MB/s eta 0:00:01\r\u001b[K     |█████████▌                      | 81kB 2.7MB/s eta 0:00:01\r\u001b[K     |██████████▊                     | 92kB 2.9MB/s eta 0:00:01\r\u001b[K     |███████████▉                    | 102kB 2.8MB/s eta 0:00:01\r\u001b[K     |█████████████                   | 112kB 2.8MB/s eta 0:00:01\r\u001b[K     |██████████████▎                 | 122kB 2.8MB/s eta 0:00:01\r\u001b[K     |███████████████▌                | 133kB 2.8MB/s eta 0:00:01\r\u001b[K     |████████████████▋               | 143kB 2.8MB/s eta 0:00:01\r\u001b[K     |█████████████████▉              | 153kB 2.8MB/s eta 0:00:01\r\u001b[K     |███████████████████             | 163kB 2.8MB/s eta 0:00:01\r\u001b[K     |████████████████████▏           | 174kB 2.8MB/s eta 0:00:01\r\u001b[K     |█████████████████████▍          | 184kB 2.8MB/s eta 0:00:01\r\u001b[K     |██████████████████████▋         | 194kB 2.8MB/s eta 0:00:01\r\u001b[K     |███████████████████████▊        | 204kB 2.8MB/s eta 0:00:01\r\u001b[K     |█████████████████████████       | 215kB 2.8MB/s eta 0:00:01\r\u001b[K     |██████████████████████████▏     | 225kB 2.8MB/s eta 0:00:01\r\u001b[K     |███████████████████████████▍    | 235kB 2.8MB/s eta 0:00:01\r\u001b[K     |████████████████████████████▌   | 245kB 2.8MB/s eta 0:00:01\r\u001b[K     |█████████████████████████████▊  | 256kB 2.8MB/s eta 0:00:01\r\u001b[K     |███████████████████████████████ | 266kB 2.8MB/s eta 0:00:01\r\u001b[K     |████████████████████████████████| 276kB 2.8MB/s \n",
            "\u001b[?25hRequirement already satisfied: matplotlib in /usr/local/lib/python3.6/dist-packages (from lime) (3.2.2)\n",
            "Requirement already satisfied: numpy in /usr/local/lib/python3.6/dist-packages (from lime) (1.18.5)\n",
            "Requirement already satisfied: scipy in /usr/local/lib/python3.6/dist-packages (from lime) (1.4.1)\n",
            "Requirement already satisfied: tqdm in /usr/local/lib/python3.6/dist-packages (from lime) (4.41.1)\n",
            "Requirement already satisfied: scikit-learn>=0.18 in /usr/local/lib/python3.6/dist-packages (from lime) (0.22.2.post1)\n",
            "Requirement already satisfied: scikit-image>=0.12 in /usr/local/lib/python3.6/dist-packages (from lime) (0.16.2)\n",
            "Requirement already satisfied: cycler>=0.10 in /usr/local/lib/python3.6/dist-packages (from matplotlib->lime) (0.10.0)\n",
            "Requirement already satisfied: pyparsing!=2.0.4,!=2.1.2,!=2.1.6,>=2.0.1 in /usr/local/lib/python3.6/dist-packages (from matplotlib->lime) (2.4.7)\n",
            "Requirement already satisfied: python-dateutil>=2.1 in /usr/local/lib/python3.6/dist-packages (from matplotlib->lime) (2.8.1)\n",
            "Requirement already satisfied: kiwisolver>=1.0.1 in /usr/local/lib/python3.6/dist-packages (from matplotlib->lime) (1.2.0)\n",
            "Requirement already satisfied: joblib>=0.11 in /usr/local/lib/python3.6/dist-packages (from scikit-learn>=0.18->lime) (0.16.0)\n",
            "Requirement already satisfied: PyWavelets>=0.4.0 in /usr/local/lib/python3.6/dist-packages (from scikit-image>=0.12->lime) (1.1.1)\n",
            "Requirement already satisfied: pillow>=4.3.0 in /usr/local/lib/python3.6/dist-packages (from scikit-image>=0.12->lime) (7.0.0)\n",
            "Requirement already satisfied: networkx>=2.0 in /usr/local/lib/python3.6/dist-packages (from scikit-image>=0.12->lime) (2.4)\n",
            "Requirement already satisfied: imageio>=2.3.0 in /usr/local/lib/python3.6/dist-packages (from scikit-image>=0.12->lime) (2.4.1)\n",
            "Requirement already satisfied: six in /usr/local/lib/python3.6/dist-packages (from cycler>=0.10->matplotlib->lime) (1.15.0)\n",
            "Requirement already satisfied: decorator>=4.3.0 in /usr/local/lib/python3.6/dist-packages (from networkx>=2.0->scikit-image>=0.12->lime) (4.4.2)\n",
            "Building wheels for collected packages: lime\n",
            "  Building wheel for lime (setup.py) ... \u001b[?25l\u001b[?25hdone\n",
            "  Created wheel for lime: filename=lime-0.2.0.1-cp36-none-any.whl size=283845 sha256=aa974d0ec444a23d1bdaab45651b2f8fa9048f7e6b9e41718cf4a243a7628291\n",
            "  Stored in directory: /root/.cache/pip/wheels/4c/4f/a5/0bc765457bd41378bf3ce8d17d7495369d6e7ca3b712c60c89\n",
            "Successfully built lime\n",
            "Installing collected packages: lime\n",
            "Successfully installed lime-0.2.0.1\n",
            "Collecting transformers\n",
            "\u001b[?25l  Downloading https://files.pythonhosted.org/packages/27/3c/91ed8f5c4e7ef3227b4119200fc0ed4b4fd965b1f0172021c25701087825/transformers-3.0.2-py3-none-any.whl (769kB)\n",
            "\u001b[K     |████████████████████████████████| 778kB 2.8MB/s \n",
            "\u001b[?25hRequirement already satisfied: filelock in /usr/local/lib/python3.6/dist-packages (from transformers) (3.0.12)\n",
            "Requirement already satisfied: packaging in /usr/local/lib/python3.6/dist-packages (from transformers) (20.4)\n",
            "Collecting tokenizers==0.8.1.rc1\n",
            "\u001b[?25l  Downloading https://files.pythonhosted.org/packages/40/d0/30d5f8d221a0ed981a186c8eb986ce1c94e3a6e87f994eae9f4aa5250217/tokenizers-0.8.1rc1-cp36-cp36m-manylinux1_x86_64.whl (3.0MB)\n",
            "\u001b[K     |████████████████████████████████| 3.0MB 16.1MB/s \n",
            "\u001b[?25hCollecting sacremoses\n",
            "\u001b[?25l  Downloading https://files.pythonhosted.org/packages/7d/34/09d19aff26edcc8eb2a01bed8e98f13a1537005d31e95233fd48216eed10/sacremoses-0.0.43.tar.gz (883kB)\n",
            "\u001b[K     |████████████████████████████████| 890kB 33.8MB/s \n",
            "\u001b[?25hRequirement already satisfied: dataclasses; python_version < \"3.7\" in /usr/local/lib/python3.6/dist-packages (from transformers) (0.7)\n",
            "Requirement already satisfied: regex!=2019.12.17 in /usr/local/lib/python3.6/dist-packages (from transformers) (2019.12.20)\n",
            "Requirement already satisfied: tqdm>=4.27 in /usr/local/lib/python3.6/dist-packages (from transformers) (4.41.1)\n",
            "Requirement already satisfied: numpy in /usr/local/lib/python3.6/dist-packages (from transformers) (1.18.5)\n",
            "Collecting sentencepiece!=0.1.92\n",
            "\u001b[?25l  Downloading https://files.pythonhosted.org/packages/d4/a4/d0a884c4300004a78cca907a6ff9a5e9fe4f090f5d95ab341c53d28cbc58/sentencepiece-0.1.91-cp36-cp36m-manylinux1_x86_64.whl (1.1MB)\n",
            "\u001b[K     |████████████████████████████████| 1.1MB 40.8MB/s \n",
            "\u001b[?25hRequirement already satisfied: requests in /usr/local/lib/python3.6/dist-packages (from transformers) (2.23.0)\n",
            "Requirement already satisfied: six in /usr/local/lib/python3.6/dist-packages (from packaging->transformers) (1.15.0)\n",
            "Requirement already satisfied: pyparsing>=2.0.2 in /usr/local/lib/python3.6/dist-packages (from packaging->transformers) (2.4.7)\n",
            "Requirement already satisfied: click in /usr/local/lib/python3.6/dist-packages (from sacremoses->transformers) (7.1.2)\n",
            "Requirement already satisfied: joblib in /usr/local/lib/python3.6/dist-packages (from sacremoses->transformers) (0.16.0)\n",
            "Requirement already satisfied: urllib3!=1.25.0,!=1.25.1,<1.26,>=1.21.1 in /usr/local/lib/python3.6/dist-packages (from requests->transformers) (1.24.3)\n",
            "Requirement already satisfied: chardet<4,>=3.0.2 in /usr/local/lib/python3.6/dist-packages (from requests->transformers) (3.0.4)\n",
            "Requirement already satisfied: certifi>=2017.4.17 in /usr/local/lib/python3.6/dist-packages (from requests->transformers) (2020.6.20)\n",
            "Requirement already satisfied: idna<3,>=2.5 in /usr/local/lib/python3.6/dist-packages (from requests->transformers) (2.10)\n",
            "Building wheels for collected packages: sacremoses\n",
            "  Building wheel for sacremoses (setup.py) ... \u001b[?25l\u001b[?25hdone\n",
            "  Created wheel for sacremoses: filename=sacremoses-0.0.43-cp36-none-any.whl size=893260 sha256=19594e9a2b061d0a5a09b72fe42472ecb3f38cae85c369b04ef1c91d9c60f060\n",
            "  Stored in directory: /root/.cache/pip/wheels/29/3c/fd/7ce5c3f0666dab31a50123635e6fb5e19ceb42ce38d4e58f45\n",
            "Successfully built sacremoses\n",
            "Installing collected packages: tokenizers, sacremoses, sentencepiece, transformers\n",
            "Successfully installed sacremoses-0.0.43 sentencepiece-0.1.91 tokenizers-0.8.1rc1 transformers-3.0.2\n"
          ],
          "name": "stdout"
        },
        {
          "output_type": "stream",
          "text": [
            "/usr/local/lib/python3.6/dist-packages/statsmodels/tools/_testing.py:19: FutureWarning: pandas.util.testing is deprecated. Use the functions in the public API at pandas.testing instead.\n",
            "  import pandas.util.testing as tm\n"
          ],
          "name": "stderr"
        }
      ]
    },
    {
      "cell_type": "code",
      "metadata": {
        "id": "IIiwqoYtG3AW",
        "colab": {
          "base_uri": "https://localhost:8080/",
          "height": 195
        },
        "outputId": "e8d272c5-c7ac-45c5-9188-5b463bad30f8"
      },
      "source": [
        "dtf = pd.read_csv('/drive/My Drive/Colab Notebooks/dataset25tags.csv')    # reading the csv file\n",
        "dtf.head()      # printing first five rows of the file"
      ],
      "execution_count": null,
      "outputs": [
        {
          "output_type": "execute_result",
          "data": {
            "text/html": [
              "<div>\n",
              "<style scoped>\n",
              "    .dataframe tbody tr th:only-of-type {\n",
              "        vertical-align: middle;\n",
              "    }\n",
              "\n",
              "    .dataframe tbody tr th {\n",
              "        vertical-align: top;\n",
              "    }\n",
              "\n",
              "    .dataframe thead th {\n",
              "        text-align: right;\n",
              "    }\n",
              "</style>\n",
              "<table border=\"1\" class=\"dataframe\">\n",
              "  <thead>\n",
              "    <tr style=\"text-align: right;\">\n",
              "      <th></th>\n",
              "      <th>Text Title</th>\n",
              "      <th>Text content</th>\n",
              "      <th>Tags</th>\n",
              "    </tr>\n",
              "  </thead>\n",
              "  <tbody>\n",
              "    <tr>\n",
              "      <th>0</th>\n",
              "      <td>Two neural network in tensorflow: TypeError: F...</td>\n",
              "      <td>I have seen similar problems descr...</td>\n",
              "      <td>python neural-network tensorflow reinforcement...</td>\n",
              "    </tr>\n",
              "    <tr>\n",
              "      <th>1</th>\n",
              "      <td>How can access to modify feature_importances o...</td>\n",
              "      <td>My goal is to extract the feature ...</td>\n",
              "      <td>python scikit-learn</td>\n",
              "    </tr>\n",
              "    <tr>\n",
              "      <th>2</th>\n",
              "      <td>KNN Regression: Distance function for datetime...</td>\n",
              "      <td>Take some datetime features like w...</td>\n",
              "      <td>regression</td>\n",
              "    </tr>\n",
              "    <tr>\n",
              "      <th>3</th>\n",
              "      <td>Multiple Time Series Forecasting with limited ...</td>\n",
              "      <td>I'm doing time series forecasting ...</td>\n",
              "      <td>machine-learning time-series</td>\n",
              "    </tr>\n",
              "    <tr>\n",
              "      <th>4</th>\n",
              "      <td>Association Rules</td>\n",
              "      <td>I'm using association rules for a ...</td>\n",
              "      <td>data-mining</td>\n",
              "    </tr>\n",
              "  </tbody>\n",
              "</table>\n",
              "</div>"
            ],
            "text/plain": [
              "                                          Text Title  ...                                               Tags\n",
              "0  Two neural network in tensorflow: TypeError: F...  ...  python neural-network tensorflow reinforcement...\n",
              "1  How can access to modify feature_importances o...  ...                                python scikit-learn\n",
              "2  KNN Regression: Distance function for datetime...  ...                                         regression\n",
              "3  Multiple Time Series Forecasting with limited ...  ...                       machine-learning time-series\n",
              "4                                  Association Rules  ...                                        data-mining\n",
              "\n",
              "[5 rows x 3 columns]"
            ]
          },
          "metadata": {
            "tags": []
          },
          "execution_count": 3
        }
      ]
    },
    {
      "cell_type": "code",
      "metadata": {
        "id": "h7xZ8mbAG3Am",
        "colab": {
          "base_uri": "https://localhost:8080/",
          "height": 151
        },
        "outputId": "09042ad5-c30a-4fd1-ecbd-e963ecc31286"
      },
      "source": [
        "\"\"\"Data Overview\"\"\"\n",
        "\n",
        "print('Rows x Columns : ', dtf.shape[0], 'x', dtf.shape[1])\n",
        "print('Features: ', dtf.columns.tolist())\n",
        "print('\\nUnique values:')\n",
        "print(dtf.nunique())"
      ],
      "execution_count": null,
      "outputs": [
        {
          "output_type": "stream",
          "text": [
            "Rows x Columns :  10450 x 3\n",
            "Features:  ['Text Title', 'Text content', 'Tags']\n",
            "\n",
            "Unique values:\n",
            "Text Title       9951\n",
            "Text content    10047\n",
            "Tags              903\n",
            "dtype: int64\n"
          ],
          "name": "stdout"
        }
      ]
    },
    {
      "cell_type": "code",
      "metadata": {
        "id": "H2T32wEjG3A2",
        "colab": {
          "base_uri": "https://localhost:8080/",
          "height": 286
        },
        "outputId": "65d2e520-11fe-4e45-a2c8-2c0bf683a81e"
      },
      "source": [
        "\"\"\"type of entries and missing values\"\"\"\n",
        "\n",
        "dtf.info()\n",
        "print('\\nMissing values:  ', dtf.isnull().sum().values.sum())\n",
        "dtf.isnull().sum()\n"
      ],
      "execution_count": null,
      "outputs": [
        {
          "output_type": "stream",
          "text": [
            "<class 'pandas.core.frame.DataFrame'>\n",
            "RangeIndex: 10450 entries, 0 to 10449\n",
            "Data columns (total 3 columns):\n",
            " #   Column        Non-Null Count  Dtype \n",
            "---  ------        --------------  ----- \n",
            " 0   Text Title    10450 non-null  object\n",
            " 1   Text content  10450 non-null  object\n",
            " 2   Tags          10450 non-null  object\n",
            "dtypes: object(3)\n",
            "memory usage: 245.0+ KB\n",
            "\n",
            "Missing values:   0\n"
          ],
          "name": "stdout"
        },
        {
          "output_type": "execute_result",
          "data": {
            "text/plain": [
              "Text Title      0\n",
              "Text content    0\n",
              "Tags            0\n",
              "dtype: int64"
            ]
          },
          "metadata": {
            "tags": []
          },
          "execution_count": 5
        }
      ]
    },
    {
      "cell_type": "code",
      "metadata": {
        "id": "-_zNVtYdG3BC",
        "colab": {
          "base_uri": "https://localhost:8080/",
          "height": 136
        },
        "outputId": "3612de59-60a5-449b-ca6a-c5a8eba2290e"
      },
      "source": [
        "dtf.describe().T"
      ],
      "execution_count": null,
      "outputs": [
        {
          "output_type": "execute_result",
          "data": {
            "text/html": [
              "<div>\n",
              "<style scoped>\n",
              "    .dataframe tbody tr th:only-of-type {\n",
              "        vertical-align: middle;\n",
              "    }\n",
              "\n",
              "    .dataframe tbody tr th {\n",
              "        vertical-align: top;\n",
              "    }\n",
              "\n",
              "    .dataframe thead th {\n",
              "        text-align: right;\n",
              "    }\n",
              "</style>\n",
              "<table border=\"1\" class=\"dataframe\">\n",
              "  <thead>\n",
              "    <tr style=\"text-align: right;\">\n",
              "      <th></th>\n",
              "      <th>count</th>\n",
              "      <th>unique</th>\n",
              "      <th>top</th>\n",
              "      <th>freq</th>\n",
              "    </tr>\n",
              "  </thead>\n",
              "  <tbody>\n",
              "    <tr>\n",
              "      <th>Text Title</th>\n",
              "      <td>10450</td>\n",
              "      <td>9951</td>\n",
              "      <td>Automated Scoring (non-english language) Using...</td>\n",
              "      <td>6</td>\n",
              "    </tr>\n",
              "    <tr>\n",
              "      <th>Text content</th>\n",
              "      <td>10450</td>\n",
              "      <td>10047</td>\n",
              "      <td>\\ni'm a student and i'm new to NLP.\\nI want to...</td>\n",
              "      <td>5</td>\n",
              "    </tr>\n",
              "    <tr>\n",
              "      <th>Tags</th>\n",
              "      <td>10450</td>\n",
              "      <td>903</td>\n",
              "      <td>machine-learning</td>\n",
              "      <td>1857</td>\n",
              "    </tr>\n",
              "  </tbody>\n",
              "</table>\n",
              "</div>"
            ],
            "text/plain": [
              "              count  ...  freq\n",
              "Text Title    10450  ...     6\n",
              "Text content  10450  ...     5\n",
              "Tags          10450  ...  1857\n",
              "\n",
              "[3 rows x 4 columns]"
            ]
          },
          "metadata": {
            "tags": []
          },
          "execution_count": 6
        }
      ]
    },
    {
      "cell_type": "code",
      "metadata": {
        "id": "-8Z1rWCkG3BM",
        "colab": {
          "base_uri": "https://localhost:8080/",
          "height": 402
        },
        "outputId": "e495292a-946f-4e7b-b7b2-8f7d545380cb"
      },
      "source": [
        "# eliminate null values\n",
        "dtf=dtf.replace(np.nan, 'Not Available')\n",
        "dtf"
      ],
      "execution_count": null,
      "outputs": [
        {
          "output_type": "execute_result",
          "data": {
            "text/html": [
              "<div>\n",
              "<style scoped>\n",
              "    .dataframe tbody tr th:only-of-type {\n",
              "        vertical-align: middle;\n",
              "    }\n",
              "\n",
              "    .dataframe tbody tr th {\n",
              "        vertical-align: top;\n",
              "    }\n",
              "\n",
              "    .dataframe thead th {\n",
              "        text-align: right;\n",
              "    }\n",
              "</style>\n",
              "<table border=\"1\" class=\"dataframe\">\n",
              "  <thead>\n",
              "    <tr style=\"text-align: right;\">\n",
              "      <th></th>\n",
              "      <th>Text Title</th>\n",
              "      <th>Text content</th>\n",
              "      <th>Tags</th>\n",
              "    </tr>\n",
              "  </thead>\n",
              "  <tbody>\n",
              "    <tr>\n",
              "      <th>0</th>\n",
              "      <td>Two neural network in tensorflow: TypeError: F...</td>\n",
              "      <td>I have seen similar problems descr...</td>\n",
              "      <td>python neural-network tensorflow reinforcement...</td>\n",
              "    </tr>\n",
              "    <tr>\n",
              "      <th>1</th>\n",
              "      <td>How can access to modify feature_importances o...</td>\n",
              "      <td>My goal is to extract the feature ...</td>\n",
              "      <td>python scikit-learn</td>\n",
              "    </tr>\n",
              "    <tr>\n",
              "      <th>2</th>\n",
              "      <td>KNN Regression: Distance function for datetime...</td>\n",
              "      <td>Take some datetime features like w...</td>\n",
              "      <td>regression</td>\n",
              "    </tr>\n",
              "    <tr>\n",
              "      <th>3</th>\n",
              "      <td>Multiple Time Series Forecasting with limited ...</td>\n",
              "      <td>I'm doing time series forecasting ...</td>\n",
              "      <td>machine-learning time-series</td>\n",
              "    </tr>\n",
              "    <tr>\n",
              "      <th>4</th>\n",
              "      <td>Association Rules</td>\n",
              "      <td>I'm using association rules for a ...</td>\n",
              "      <td>data-mining</td>\n",
              "    </tr>\n",
              "    <tr>\n",
              "      <th>...</th>\n",
              "      <td>...</td>\n",
              "      <td>...</td>\n",
              "      <td>...</td>\n",
              "    </tr>\n",
              "    <tr>\n",
              "      <th>10445</th>\n",
              "      <td>How to cluster when samples are independent an...</td>\n",
              "      <td>\\nIn machine learning, one can use Euclidean d...</td>\n",
              "      <td>machine-learning data-mining</td>\n",
              "    </tr>\n",
              "    <tr>\n",
              "      <th>10446</th>\n",
              "      <td>Implementation of Tree Kernels in Python</td>\n",
              "      <td>\\nI'm looking to use a tree kernel (e.g. Zelen...</td>\n",
              "      <td>machine-learning python nlp statistics</td>\n",
              "    </tr>\n",
              "    <tr>\n",
              "      <th>10447</th>\n",
              "      <td>Classifier Chains</td>\n",
              "      <td>\\nMy question is about creating classifier cha...</td>\n",
              "      <td>machine-learning</td>\n",
              "    </tr>\n",
              "    <tr>\n",
              "      <th>10448</th>\n",
              "      <td>Predictive analysis of rare events</td>\n",
              "      <td>\\nI'm trying to predict rare events, meaning l...</td>\n",
              "      <td>machine-learning predictive-modeling</td>\n",
              "    </tr>\n",
              "    <tr>\n",
              "      <th>10449</th>\n",
              "      <td>What is the difference between concept learnin...</td>\n",
              "      <td>\\nI've recently read about concept learning in...</td>\n",
              "      <td>machine-learning classification</td>\n",
              "    </tr>\n",
              "  </tbody>\n",
              "</table>\n",
              "<p>10450 rows × 3 columns</p>\n",
              "</div>"
            ],
            "text/plain": [
              "                                              Text Title  ...                                               Tags\n",
              "0      Two neural network in tensorflow: TypeError: F...  ...  python neural-network tensorflow reinforcement...\n",
              "1      How can access to modify feature_importances o...  ...                                python scikit-learn\n",
              "2      KNN Regression: Distance function for datetime...  ...                                         regression\n",
              "3      Multiple Time Series Forecasting with limited ...  ...                       machine-learning time-series\n",
              "4                                      Association Rules  ...                                        data-mining\n",
              "...                                                  ...  ...                                                ...\n",
              "10445  How to cluster when samples are independent an...  ...                       machine-learning data-mining\n",
              "10446           Implementation of Tree Kernels in Python  ...             machine-learning python nlp statistics\n",
              "10447                                  Classifier Chains  ...                                   machine-learning\n",
              "10448                 Predictive analysis of rare events  ...               machine-learning predictive-modeling\n",
              "10449  What is the difference between concept learnin...  ...                    machine-learning classification\n",
              "\n",
              "[10450 rows x 3 columns]"
            ]
          },
          "metadata": {
            "tags": []
          },
          "execution_count": 7
        }
      ]
    },
    {
      "cell_type": "code",
      "metadata": {
        "id": "IIXexgHxG3BW"
      },
      "source": [
        "dtf['Text Title']=dtf['Text Title'].str.replace(\"[\\n]\", \" \") \n",
        "dtf['Text content']=dtf['Text content'].str.replace(\"[\\n]\", \" \") "
      ],
      "execution_count": null,
      "outputs": []
    },
    {
      "cell_type": "code",
      "metadata": {
        "id": "zlJLWW6IG3Bg",
        "colab": {
          "base_uri": "https://localhost:8080/",
          "height": 402
        },
        "outputId": "cc8239b4-f089-42cf-fb72-34367830b9f5"
      },
      "source": [
        "dtf['Text content']=dtf['Text content'].str.strip()\n",
        "dtf['Text Title']=dtf['Text Title'].str.strip()\n",
        "dtf['Tags']=dtf['Tags'].str.strip()\n",
        "dtf\n"
      ],
      "execution_count": null,
      "outputs": [
        {
          "output_type": "execute_result",
          "data": {
            "text/html": [
              "<div>\n",
              "<style scoped>\n",
              "    .dataframe tbody tr th:only-of-type {\n",
              "        vertical-align: middle;\n",
              "    }\n",
              "\n",
              "    .dataframe tbody tr th {\n",
              "        vertical-align: top;\n",
              "    }\n",
              "\n",
              "    .dataframe thead th {\n",
              "        text-align: right;\n",
              "    }\n",
              "</style>\n",
              "<table border=\"1\" class=\"dataframe\">\n",
              "  <thead>\n",
              "    <tr style=\"text-align: right;\">\n",
              "      <th></th>\n",
              "      <th>Text Title</th>\n",
              "      <th>Text content</th>\n",
              "      <th>Tags</th>\n",
              "    </tr>\n",
              "  </thead>\n",
              "  <tbody>\n",
              "    <tr>\n",
              "      <th>0</th>\n",
              "      <td>Two neural network in tensorflow: TypeError: F...</td>\n",
              "      <td>I have seen similar problems describes typerro...</td>\n",
              "      <td>python neural-network tensorflow reinforcement...</td>\n",
              "    </tr>\n",
              "    <tr>\n",
              "      <th>1</th>\n",
              "      <td>How can access to modify feature_importances o...</td>\n",
              "      <td>My goal is to extract the feature importances ...</td>\n",
              "      <td>python scikit-learn</td>\n",
              "    </tr>\n",
              "    <tr>\n",
              "      <th>2</th>\n",
              "      <td>KNN Regression: Distance function for datetime...</td>\n",
              "      <td>Take some datetime features like week days (mo...</td>\n",
              "      <td>regression</td>\n",
              "    </tr>\n",
              "    <tr>\n",
              "      <th>3</th>\n",
              "      <td>Multiple Time Series Forecasting with limited ...</td>\n",
              "      <td>I'm doing time series forecasting for the sale...</td>\n",
              "      <td>machine-learning time-series</td>\n",
              "    </tr>\n",
              "    <tr>\n",
              "      <th>4</th>\n",
              "      <td>Association Rules</td>\n",
              "      <td>I'm using association rules for a project and ...</td>\n",
              "      <td>data-mining</td>\n",
              "    </tr>\n",
              "    <tr>\n",
              "      <th>...</th>\n",
              "      <td>...</td>\n",
              "      <td>...</td>\n",
              "      <td>...</td>\n",
              "    </tr>\n",
              "    <tr>\n",
              "      <th>10445</th>\n",
              "      <td>How to cluster when samples are independent an...</td>\n",
              "      <td>In machine learning, one can use Euclidean dis...</td>\n",
              "      <td>machine-learning data-mining</td>\n",
              "    </tr>\n",
              "    <tr>\n",
              "      <th>10446</th>\n",
              "      <td>Implementation of Tree Kernels in Python</td>\n",
              "      <td>I'm looking to use a tree kernel (e.g. Zelenko...</td>\n",
              "      <td>machine-learning python nlp statistics</td>\n",
              "    </tr>\n",
              "    <tr>\n",
              "      <th>10447</th>\n",
              "      <td>Classifier Chains</td>\n",
              "      <td>My question is about creating classifier chain...</td>\n",
              "      <td>machine-learning</td>\n",
              "    </tr>\n",
              "    <tr>\n",
              "      <th>10448</th>\n",
              "      <td>Predictive analysis of rare events</td>\n",
              "      <td>I'm trying to predict rare events, meaning les...</td>\n",
              "      <td>machine-learning predictive-modeling</td>\n",
              "    </tr>\n",
              "    <tr>\n",
              "      <th>10449</th>\n",
              "      <td>What is the difference between concept learnin...</td>\n",
              "      <td>I've recently read about concept learning in a...</td>\n",
              "      <td>machine-learning classification</td>\n",
              "    </tr>\n",
              "  </tbody>\n",
              "</table>\n",
              "<p>10450 rows × 3 columns</p>\n",
              "</div>"
            ],
            "text/plain": [
              "                                              Text Title  ...                                               Tags\n",
              "0      Two neural network in tensorflow: TypeError: F...  ...  python neural-network tensorflow reinforcement...\n",
              "1      How can access to modify feature_importances o...  ...                                python scikit-learn\n",
              "2      KNN Regression: Distance function for datetime...  ...                                         regression\n",
              "3      Multiple Time Series Forecasting with limited ...  ...                       machine-learning time-series\n",
              "4                                      Association Rules  ...                                        data-mining\n",
              "...                                                  ...  ...                                                ...\n",
              "10445  How to cluster when samples are independent an...  ...                       machine-learning data-mining\n",
              "10446           Implementation of Tree Kernels in Python  ...             machine-learning python nlp statistics\n",
              "10447                                  Classifier Chains  ...                                   machine-learning\n",
              "10448                 Predictive analysis of rare events  ...               machine-learning predictive-modeling\n",
              "10449  What is the difference between concept learnin...  ...                    machine-learning classification\n",
              "\n",
              "[10450 rows x 3 columns]"
            ]
          },
          "metadata": {
            "tags": []
          },
          "execution_count": 9
        }
      ]
    },
    {
      "cell_type": "code",
      "metadata": {
        "id": "9vu1w7p6G3Bm"
      },
      "source": [
        "for i in range(len(dtf['Tags'])):\n",
        "    dtf['Tags'][i]=list(dtf['Tags'][i].split(\" \"))\n",
        "    #print(dtf['Tag'][i])"
      ],
      "execution_count": null,
      "outputs": []
    },
    {
      "cell_type": "code",
      "metadata": {
        "id": "udndspGQG3Bq",
        "colab": {
          "base_uri": "https://localhost:8080/",
          "height": 402
        },
        "outputId": "428cfcd4-d153-482a-ce25-9b04c8d5a45d"
      },
      "source": [
        "dtf"
      ],
      "execution_count": null,
      "outputs": [
        {
          "output_type": "execute_result",
          "data": {
            "text/html": [
              "<div>\n",
              "<style scoped>\n",
              "    .dataframe tbody tr th:only-of-type {\n",
              "        vertical-align: middle;\n",
              "    }\n",
              "\n",
              "    .dataframe tbody tr th {\n",
              "        vertical-align: top;\n",
              "    }\n",
              "\n",
              "    .dataframe thead th {\n",
              "        text-align: right;\n",
              "    }\n",
              "</style>\n",
              "<table border=\"1\" class=\"dataframe\">\n",
              "  <thead>\n",
              "    <tr style=\"text-align: right;\">\n",
              "      <th></th>\n",
              "      <th>Text Title</th>\n",
              "      <th>Text content</th>\n",
              "      <th>Tags</th>\n",
              "    </tr>\n",
              "  </thead>\n",
              "  <tbody>\n",
              "    <tr>\n",
              "      <th>0</th>\n",
              "      <td>Two neural network in tensorflow: TypeError: F...</td>\n",
              "      <td>I have seen similar problems describes typerro...</td>\n",
              "      <td>[python, neural-network, tensorflow, reinforce...</td>\n",
              "    </tr>\n",
              "    <tr>\n",
              "      <th>1</th>\n",
              "      <td>How can access to modify feature_importances o...</td>\n",
              "      <td>My goal is to extract the feature importances ...</td>\n",
              "      <td>[python, scikit-learn]</td>\n",
              "    </tr>\n",
              "    <tr>\n",
              "      <th>2</th>\n",
              "      <td>KNN Regression: Distance function for datetime...</td>\n",
              "      <td>Take some datetime features like week days (mo...</td>\n",
              "      <td>[regression]</td>\n",
              "    </tr>\n",
              "    <tr>\n",
              "      <th>3</th>\n",
              "      <td>Multiple Time Series Forecasting with limited ...</td>\n",
              "      <td>I'm doing time series forecasting for the sale...</td>\n",
              "      <td>[machine-learning, time-series]</td>\n",
              "    </tr>\n",
              "    <tr>\n",
              "      <th>4</th>\n",
              "      <td>Association Rules</td>\n",
              "      <td>I'm using association rules for a project and ...</td>\n",
              "      <td>[data-mining]</td>\n",
              "    </tr>\n",
              "    <tr>\n",
              "      <th>...</th>\n",
              "      <td>...</td>\n",
              "      <td>...</td>\n",
              "      <td>...</td>\n",
              "    </tr>\n",
              "    <tr>\n",
              "      <th>10445</th>\n",
              "      <td>How to cluster when samples are independent an...</td>\n",
              "      <td>In machine learning, one can use Euclidean dis...</td>\n",
              "      <td>[machine-learning, data-mining]</td>\n",
              "    </tr>\n",
              "    <tr>\n",
              "      <th>10446</th>\n",
              "      <td>Implementation of Tree Kernels in Python</td>\n",
              "      <td>I'm looking to use a tree kernel (e.g. Zelenko...</td>\n",
              "      <td>[machine-learning, python, nlp, statistics]</td>\n",
              "    </tr>\n",
              "    <tr>\n",
              "      <th>10447</th>\n",
              "      <td>Classifier Chains</td>\n",
              "      <td>My question is about creating classifier chain...</td>\n",
              "      <td>[machine-learning]</td>\n",
              "    </tr>\n",
              "    <tr>\n",
              "      <th>10448</th>\n",
              "      <td>Predictive analysis of rare events</td>\n",
              "      <td>I'm trying to predict rare events, meaning les...</td>\n",
              "      <td>[machine-learning, predictive-modeling]</td>\n",
              "    </tr>\n",
              "    <tr>\n",
              "      <th>10449</th>\n",
              "      <td>What is the difference between concept learnin...</td>\n",
              "      <td>I've recently read about concept learning in a...</td>\n",
              "      <td>[machine-learning, classification]</td>\n",
              "    </tr>\n",
              "  </tbody>\n",
              "</table>\n",
              "<p>10450 rows × 3 columns</p>\n",
              "</div>"
            ],
            "text/plain": [
              "                                              Text Title  ...                                               Tags\n",
              "0      Two neural network in tensorflow: TypeError: F...  ...  [python, neural-network, tensorflow, reinforce...\n",
              "1      How can access to modify feature_importances o...  ...                             [python, scikit-learn]\n",
              "2      KNN Regression: Distance function for datetime...  ...                                       [regression]\n",
              "3      Multiple Time Series Forecasting with limited ...  ...                    [machine-learning, time-series]\n",
              "4                                      Association Rules  ...                                      [data-mining]\n",
              "...                                                  ...  ...                                                ...\n",
              "10445  How to cluster when samples are independent an...  ...                    [machine-learning, data-mining]\n",
              "10446           Implementation of Tree Kernels in Python  ...        [machine-learning, python, nlp, statistics]\n",
              "10447                                  Classifier Chains  ...                                 [machine-learning]\n",
              "10448                 Predictive analysis of rare events  ...            [machine-learning, predictive-modeling]\n",
              "10449  What is the difference between concept learnin...  ...                 [machine-learning, classification]\n",
              "\n",
              "[10450 rows x 3 columns]"
            ]
          },
          "metadata": {
            "tags": []
          },
          "execution_count": 11
        }
      ]
    },
    {
      "cell_type": "markdown",
      "metadata": {
        "id": "sHsA2nyEoBu0"
      },
      "source": [
        "## Pre-processed CSV is stored"
      ]
    },
    {
      "cell_type": "code",
      "metadata": {
        "id": "-IuYWjzPG3Bu"
      },
      "source": [
        "dtf.to_csv('out.csv',index=False)"
      ],
      "execution_count": null,
      "outputs": []
    },
    {
      "cell_type": "code",
      "metadata": {
        "id": "dqjMZMoTG3B0",
        "colab": {
          "base_uri": "https://localhost:8080/",
          "height": 34
        },
        "outputId": "ead32720-7f03-4ed6-dfb4-5de728e2c4fe"
      },
      "source": [
        "print(type(dtf['Tags']))"
      ],
      "execution_count": null,
      "outputs": [
        {
          "output_type": "stream",
          "text": [
            "<class 'pandas.core.series.Series'>\n"
          ],
          "name": "stdout"
        }
      ]
    },
    {
      "cell_type": "code",
      "metadata": {
        "id": "i8EPlAxmG3B4"
      },
      "source": [
        "row=[]\n",
        "for i in range(len(dtf['Tags'])):\n",
        "    #print(dtf['Tag'][i])\n",
        "    row.append(dtf['Tags'][i])\n",
        "    \n",
        "    "
      ],
      "execution_count": null,
      "outputs": []
    },
    {
      "cell_type": "code",
      "metadata": {
        "id": "hV-3nn1eG3B9"
      },
      "source": [
        "tags=[]\n",
        "for i in row:\n",
        "    for j in i:\n",
        "        tags.append(j.strip())"
      ],
      "execution_count": null,
      "outputs": []
    },
    {
      "cell_type": "code",
      "metadata": {
        "id": "XhRU-YLaG3CB"
      },
      "source": [
        "all_tags=list(set(tags))"
      ],
      "execution_count": null,
      "outputs": []
    },
    {
      "cell_type": "code",
      "metadata": {
        "id": "kuYb6xIsG3CG",
        "colab": {
          "base_uri": "https://localhost:8080/",
          "height": 34
        },
        "outputId": "48cd8923-950e-4a87-b8b3-f4bec4d3e0e2"
      },
      "source": [
        "len(all_tags)"
      ],
      "execution_count": null,
      "outputs": [
        {
          "output_type": "execute_result",
          "data": {
            "text/plain": [
              "25"
            ]
          },
          "metadata": {
            "tags": []
          },
          "execution_count": 17
        }
      ]
    },
    {
      "cell_type": "code",
      "metadata": {
        "id": "S-RWCMuxG3CK"
      },
      "source": [
        "import nltk\n",
        "all_tags = nltk.FreqDist(tags) "
      ],
      "execution_count": null,
      "outputs": []
    },
    {
      "cell_type": "code",
      "metadata": {
        "id": "e9WC-MpxG3CO",
        "colab": {
          "base_uri": "https://localhost:8080/",
          "height": 437
        },
        "outputId": "a4897093-26a5-4aa4-e2b3-7b7587cac5a7"
      },
      "source": [
        "all_tags"
      ],
      "execution_count": null,
      "outputs": [
        {
          "output_type": "execute_result",
          "data": {
            "text/plain": [
              "FreqDist({'classification': 983,\n",
              "          'clustering': 272,\n",
              "          'cnn': 306,\n",
              "          'computer-vision': 274,\n",
              "          'convolutional-neural-networks': 388,\n",
              "          'data-mining': 412,\n",
              "          'dataset': 279,\n",
              "          'deep-learning': 2932,\n",
              "          'keras': 869,\n",
              "          'machine-learning': 8261,\n",
              "          'machine-learning-model': 265,\n",
              "          'natural-language-processing': 582,\n",
              "          'neural-network': 1317,\n",
              "          'neural-networks': 750,\n",
              "          'nlp': 374,\n",
              "          'predictive-modeling': 367,\n",
              "          'python': 1809,\n",
              "          'r': 263,\n",
              "          'regression': 465,\n",
              "          'reinforcement-learning': 403,\n",
              "          'scikit-learn': 564,\n",
              "          'statistics': 272,\n",
              "          'tensorflow': 629,\n",
              "          'time-series': 349,\n",
              "          'training': 265})"
            ]
          },
          "metadata": {
            "tags": []
          },
          "execution_count": 19
        }
      ]
    },
    {
      "cell_type": "code",
      "metadata": {
        "id": "u-LggCIUG3CU"
      },
      "source": [
        "# create dataframe\n",
        "tags_df = pd.DataFrame({'Tags': list(all_tags.keys()), \n",
        "                              'Count': list(all_tags.values())})"
      ],
      "execution_count": null,
      "outputs": []
    },
    {
      "cell_type": "code",
      "metadata": {
        "id": "GSI5NBJOG3CY",
        "colab": {
          "base_uri": "https://localhost:8080/",
          "height": 787
        },
        "outputId": "1be74341-0bc8-4e69-90f9-52a379f5ca5d"
      },
      "source": [
        "tags_df"
      ],
      "execution_count": null,
      "outputs": [
        {
          "output_type": "execute_result",
          "data": {
            "text/html": [
              "<div>\n",
              "<style scoped>\n",
              "    .dataframe tbody tr th:only-of-type {\n",
              "        vertical-align: middle;\n",
              "    }\n",
              "\n",
              "    .dataframe tbody tr th {\n",
              "        vertical-align: top;\n",
              "    }\n",
              "\n",
              "    .dataframe thead th {\n",
              "        text-align: right;\n",
              "    }\n",
              "</style>\n",
              "<table border=\"1\" class=\"dataframe\">\n",
              "  <thead>\n",
              "    <tr style=\"text-align: right;\">\n",
              "      <th></th>\n",
              "      <th>Tags</th>\n",
              "      <th>Count</th>\n",
              "    </tr>\n",
              "  </thead>\n",
              "  <tbody>\n",
              "    <tr>\n",
              "      <th>0</th>\n",
              "      <td>python</td>\n",
              "      <td>1809</td>\n",
              "    </tr>\n",
              "    <tr>\n",
              "      <th>1</th>\n",
              "      <td>neural-network</td>\n",
              "      <td>1317</td>\n",
              "    </tr>\n",
              "    <tr>\n",
              "      <th>2</th>\n",
              "      <td>tensorflow</td>\n",
              "      <td>629</td>\n",
              "    </tr>\n",
              "    <tr>\n",
              "      <th>3</th>\n",
              "      <td>reinforcement-learning</td>\n",
              "      <td>403</td>\n",
              "    </tr>\n",
              "    <tr>\n",
              "      <th>4</th>\n",
              "      <td>scikit-learn</td>\n",
              "      <td>564</td>\n",
              "    </tr>\n",
              "    <tr>\n",
              "      <th>5</th>\n",
              "      <td>regression</td>\n",
              "      <td>465</td>\n",
              "    </tr>\n",
              "    <tr>\n",
              "      <th>6</th>\n",
              "      <td>machine-learning</td>\n",
              "      <td>8261</td>\n",
              "    </tr>\n",
              "    <tr>\n",
              "      <th>7</th>\n",
              "      <td>time-series</td>\n",
              "      <td>349</td>\n",
              "    </tr>\n",
              "    <tr>\n",
              "      <th>8</th>\n",
              "      <td>data-mining</td>\n",
              "      <td>412</td>\n",
              "    </tr>\n",
              "    <tr>\n",
              "      <th>9</th>\n",
              "      <td>deep-learning</td>\n",
              "      <td>2932</td>\n",
              "    </tr>\n",
              "    <tr>\n",
              "      <th>10</th>\n",
              "      <td>keras</td>\n",
              "      <td>869</td>\n",
              "    </tr>\n",
              "    <tr>\n",
              "      <th>11</th>\n",
              "      <td>cnn</td>\n",
              "      <td>306</td>\n",
              "    </tr>\n",
              "    <tr>\n",
              "      <th>12</th>\n",
              "      <td>classification</td>\n",
              "      <td>983</td>\n",
              "    </tr>\n",
              "    <tr>\n",
              "      <th>13</th>\n",
              "      <td>predictive-modeling</td>\n",
              "      <td>367</td>\n",
              "    </tr>\n",
              "    <tr>\n",
              "      <th>14</th>\n",
              "      <td>clustering</td>\n",
              "      <td>272</td>\n",
              "    </tr>\n",
              "    <tr>\n",
              "      <th>15</th>\n",
              "      <td>dataset</td>\n",
              "      <td>279</td>\n",
              "    </tr>\n",
              "    <tr>\n",
              "      <th>16</th>\n",
              "      <td>training</td>\n",
              "      <td>265</td>\n",
              "    </tr>\n",
              "    <tr>\n",
              "      <th>17</th>\n",
              "      <td>nlp</td>\n",
              "      <td>374</td>\n",
              "    </tr>\n",
              "    <tr>\n",
              "      <th>18</th>\n",
              "      <td>machine-learning-model</td>\n",
              "      <td>265</td>\n",
              "    </tr>\n",
              "    <tr>\n",
              "      <th>19</th>\n",
              "      <td>statistics</td>\n",
              "      <td>272</td>\n",
              "    </tr>\n",
              "    <tr>\n",
              "      <th>20</th>\n",
              "      <td>r</td>\n",
              "      <td>263</td>\n",
              "    </tr>\n",
              "    <tr>\n",
              "      <th>21</th>\n",
              "      <td>computer-vision</td>\n",
              "      <td>274</td>\n",
              "    </tr>\n",
              "    <tr>\n",
              "      <th>22</th>\n",
              "      <td>neural-networks</td>\n",
              "      <td>750</td>\n",
              "    </tr>\n",
              "    <tr>\n",
              "      <th>23</th>\n",
              "      <td>convolutional-neural-networks</td>\n",
              "      <td>388</td>\n",
              "    </tr>\n",
              "    <tr>\n",
              "      <th>24</th>\n",
              "      <td>natural-language-processing</td>\n",
              "      <td>582</td>\n",
              "    </tr>\n",
              "  </tbody>\n",
              "</table>\n",
              "</div>"
            ],
            "text/plain": [
              "                             Tags  Count\n",
              "0                          python   1809\n",
              "1                  neural-network   1317\n",
              "2                      tensorflow    629\n",
              "3          reinforcement-learning    403\n",
              "4                    scikit-learn    564\n",
              "5                      regression    465\n",
              "6                machine-learning   8261\n",
              "7                     time-series    349\n",
              "8                     data-mining    412\n",
              "9                   deep-learning   2932\n",
              "10                          keras    869\n",
              "11                            cnn    306\n",
              "12                 classification    983\n",
              "13            predictive-modeling    367\n",
              "14                     clustering    272\n",
              "15                        dataset    279\n",
              "16                       training    265\n",
              "17                            nlp    374\n",
              "18         machine-learning-model    265\n",
              "19                     statistics    272\n",
              "20                              r    263\n",
              "21                computer-vision    274\n",
              "22                neural-networks    750\n",
              "23  convolutional-neural-networks    388\n",
              "24    natural-language-processing    582"
            ]
          },
          "metadata": {
            "tags": []
          },
          "execution_count": 21
        }
      ]
    },
    {
      "cell_type": "code",
      "metadata": {
        "id": "9qURp2ZfG3Cj",
        "colab": {
          "base_uri": "https://localhost:8080/",
          "height": 877
        },
        "outputId": "7e666074-64a4-4f35-c24d-ef52c09cfe9f"
      },
      "source": [
        "g = tags_df.nlargest(columns=\"Count\", n = 50) \n",
        "plt.figure(figsize=(12,15)) \n",
        "ax = sns.barplot(data=g, x= \"Count\", y = \"Tags\") \n",
        "ax.set(ylabel = 'Count') \n",
        "plt.show()"
      ],
      "execution_count": null,
      "outputs": [
        {
          "output_type": "display_data",
          "data": {
            "image/png": "[encoded data removed]",
            "text/plain": [
              "<Figure size 864x1080 with 1 Axes>"
            ]
          },
          "metadata": {
            "tags": [],
            "needs_background": "light"
          }
        }
      ]
    },
    {
      "cell_type": "code",
      "metadata": {
        "id": "Dai5jdicG3Cq"
      },
      "source": [
        "#function for text cleaning \n",
        "def clean_text(text):\n",
        "    # remove backslash-apostrophe \n",
        "    text = re.sub(\"\\'\", \"\", text) \n",
        "    # remove everything except alphabets \n",
        "    text = re.sub(\"[^a-zA-Z]\",\" \",text) \n",
        "    # remove whitespaces \n",
        "    text = ' '.join(text.split()) \n",
        "    # convert text to lowercase \n",
        "    text = text.lower() \n",
        "    \n",
        "    return text\n",
        "\n"
      ],
      "execution_count": null,
      "outputs": []
    },
    {
      "cell_type": "code",
      "metadata": {
        "id": "3vc0mNZpG3Cv"
      },
      "source": [
        "# remove samples with 0 genre tags\n",
        "tags_new = dtf[~(dtf['Tags'].str.len() == 0)]"
      ],
      "execution_count": null,
      "outputs": []
    },
    {
      "cell_type": "code",
      "metadata": {
        "id": "W9gTz2WcG3C0",
        "colab": {
          "base_uri": "https://localhost:8080/",
          "height": 402
        },
        "outputId": "79172bc2-61c1-49b9-d830-300562c4421f"
      },
      "source": [
        "tags_new"
      ],
      "execution_count": null,
      "outputs": [
        {
          "output_type": "execute_result",
          "data": {
            "text/html": [
              "<div>\n",
              "<style scoped>\n",
              "    .dataframe tbody tr th:only-of-type {\n",
              "        vertical-align: middle;\n",
              "    }\n",
              "\n",
              "    .dataframe tbody tr th {\n",
              "        vertical-align: top;\n",
              "    }\n",
              "\n",
              "    .dataframe thead th {\n",
              "        text-align: right;\n",
              "    }\n",
              "</style>\n",
              "<table border=\"1\" class=\"dataframe\">\n",
              "  <thead>\n",
              "    <tr style=\"text-align: right;\">\n",
              "      <th></th>\n",
              "      <th>Text Title</th>\n",
              "      <th>Text content</th>\n",
              "      <th>Tags</th>\n",
              "    </tr>\n",
              "  </thead>\n",
              "  <tbody>\n",
              "    <tr>\n",
              "      <th>0</th>\n",
              "      <td>Two neural network in tensorflow: TypeError: F...</td>\n",
              "      <td>I have seen similar problems describes typerro...</td>\n",
              "      <td>[python, neural-network, tensorflow, reinforce...</td>\n",
              "    </tr>\n",
              "    <tr>\n",
              "      <th>1</th>\n",
              "      <td>How can access to modify feature_importances o...</td>\n",
              "      <td>My goal is to extract the feature importances ...</td>\n",
              "      <td>[python, scikit-learn]</td>\n",
              "    </tr>\n",
              "    <tr>\n",
              "      <th>2</th>\n",
              "      <td>KNN Regression: Distance function for datetime...</td>\n",
              "      <td>Take some datetime features like week days (mo...</td>\n",
              "      <td>[regression]</td>\n",
              "    </tr>\n",
              "    <tr>\n",
              "      <th>3</th>\n",
              "      <td>Multiple Time Series Forecasting with limited ...</td>\n",
              "      <td>I'm doing time series forecasting for the sale...</td>\n",
              "      <td>[machine-learning, time-series]</td>\n",
              "    </tr>\n",
              "    <tr>\n",
              "      <th>4</th>\n",
              "      <td>Association Rules</td>\n",
              "      <td>I'm using association rules for a project and ...</td>\n",
              "      <td>[data-mining]</td>\n",
              "    </tr>\n",
              "    <tr>\n",
              "      <th>...</th>\n",
              "      <td>...</td>\n",
              "      <td>...</td>\n",
              "      <td>...</td>\n",
              "    </tr>\n",
              "    <tr>\n",
              "      <th>10445</th>\n",
              "      <td>How to cluster when samples are independent an...</td>\n",
              "      <td>In machine learning, one can use Euclidean dis...</td>\n",
              "      <td>[machine-learning, data-mining]</td>\n",
              "    </tr>\n",
              "    <tr>\n",
              "      <th>10446</th>\n",
              "      <td>Implementation of Tree Kernels in Python</td>\n",
              "      <td>I'm looking to use a tree kernel (e.g. Zelenko...</td>\n",
              "      <td>[machine-learning, python, nlp, statistics]</td>\n",
              "    </tr>\n",
              "    <tr>\n",
              "      <th>10447</th>\n",
              "      <td>Classifier Chains</td>\n",
              "      <td>My question is about creating classifier chain...</td>\n",
              "      <td>[machine-learning]</td>\n",
              "    </tr>\n",
              "    <tr>\n",
              "      <th>10448</th>\n",
              "      <td>Predictive analysis of rare events</td>\n",
              "      <td>I'm trying to predict rare events, meaning les...</td>\n",
              "      <td>[machine-learning, predictive-modeling]</td>\n",
              "    </tr>\n",
              "    <tr>\n",
              "      <th>10449</th>\n",
              "      <td>What is the difference between concept learnin...</td>\n",
              "      <td>I've recently read about concept learning in a...</td>\n",
              "      <td>[machine-learning, classification]</td>\n",
              "    </tr>\n",
              "  </tbody>\n",
              "</table>\n",
              "<p>10450 rows × 3 columns</p>\n",
              "</div>"
            ],
            "text/plain": [
              "                                              Text Title  ...                                               Tags\n",
              "0      Two neural network in tensorflow: TypeError: F...  ...  [python, neural-network, tensorflow, reinforce...\n",
              "1      How can access to modify feature_importances o...  ...                             [python, scikit-learn]\n",
              "2      KNN Regression: Distance function for datetime...  ...                                       [regression]\n",
              "3      Multiple Time Series Forecasting with limited ...  ...                    [machine-learning, time-series]\n",
              "4                                      Association Rules  ...                                      [data-mining]\n",
              "...                                                  ...  ...                                                ...\n",
              "10445  How to cluster when samples are independent an...  ...                    [machine-learning, data-mining]\n",
              "10446           Implementation of Tree Kernels in Python  ...        [machine-learning, python, nlp, statistics]\n",
              "10447                                  Classifier Chains  ...                                 [machine-learning]\n",
              "10448                 Predictive analysis of rare events  ...            [machine-learning, predictive-modeling]\n",
              "10449  What is the difference between concept learnin...  ...                 [machine-learning, classification]\n",
              "\n",
              "[10450 rows x 3 columns]"
            ]
          },
          "metadata": {
            "tags": []
          },
          "execution_count": 25
        }
      ]
    },
    {
      "cell_type": "code",
      "metadata": {
        "id": "3ejw1MUHG3C6",
        "colab": {
          "base_uri": "https://localhost:8080/",
          "height": 402
        },
        "outputId": "6e63a5bd-552d-4b43-d0f5-a47fe542a210"
      },
      "source": [
        "tags_new['Cleaned Text Title'] = tags_new['Text Title'].apply(lambda x: clean_text(x))\n",
        "tags_new"
      ],
      "execution_count": null,
      "outputs": [
        {
          "output_type": "execute_result",
          "data": {
            "text/html": [
              "<div>\n",
              "<style scoped>\n",
              "    .dataframe tbody tr th:only-of-type {\n",
              "        vertical-align: middle;\n",
              "    }\n",
              "\n",
              "    .dataframe tbody tr th {\n",
              "        vertical-align: top;\n",
              "    }\n",
              "\n",
              "    .dataframe thead th {\n",
              "        text-align: right;\n",
              "    }\n",
              "</style>\n",
              "<table border=\"1\" class=\"dataframe\">\n",
              "  <thead>\n",
              "    <tr style=\"text-align: right;\">\n",
              "      <th></th>\n",
              "      <th>Text Title</th>\n",
              "      <th>Text content</th>\n",
              "      <th>Tags</th>\n",
              "      <th>Cleaned Text Title</th>\n",
              "    </tr>\n",
              "  </thead>\n",
              "  <tbody>\n",
              "    <tr>\n",
              "      <th>0</th>\n",
              "      <td>Two neural network in tensorflow: TypeError: F...</td>\n",
              "      <td>I have seen similar problems describes typerro...</td>\n",
              "      <td>[python, neural-network, tensorflow, reinforce...</td>\n",
              "      <td>two neural network in tensorflow typeerror fet...</td>\n",
              "    </tr>\n",
              "    <tr>\n",
              "      <th>1</th>\n",
              "      <td>How can access to modify feature_importances o...</td>\n",
              "      <td>My goal is to extract the feature importances ...</td>\n",
              "      <td>[python, scikit-learn]</td>\n",
              "      <td>how can access to modify feature importances o...</td>\n",
              "    </tr>\n",
              "    <tr>\n",
              "      <th>2</th>\n",
              "      <td>KNN Regression: Distance function for datetime...</td>\n",
              "      <td>Take some datetime features like week days (mo...</td>\n",
              "      <td>[regression]</td>\n",
              "      <td>knn regression distance function for datetime ...</td>\n",
              "    </tr>\n",
              "    <tr>\n",
              "      <th>3</th>\n",
              "      <td>Multiple Time Series Forecasting with limited ...</td>\n",
              "      <td>I'm doing time series forecasting for the sale...</td>\n",
              "      <td>[machine-learning, time-series]</td>\n",
              "      <td>multiple time series forecasting with limited ...</td>\n",
              "    </tr>\n",
              "    <tr>\n",
              "      <th>4</th>\n",
              "      <td>Association Rules</td>\n",
              "      <td>I'm using association rules for a project and ...</td>\n",
              "      <td>[data-mining]</td>\n",
              "      <td>association rules</td>\n",
              "    </tr>\n",
              "    <tr>\n",
              "      <th>...</th>\n",
              "      <td>...</td>\n",
              "      <td>...</td>\n",
              "      <td>...</td>\n",
              "      <td>...</td>\n",
              "    </tr>\n",
              "    <tr>\n",
              "      <th>10445</th>\n",
              "      <td>How to cluster when samples are independent an...</td>\n",
              "      <td>In machine learning, one can use Euclidean dis...</td>\n",
              "      <td>[machine-learning, data-mining]</td>\n",
              "      <td>how to cluster when samples are independent an...</td>\n",
              "    </tr>\n",
              "    <tr>\n",
              "      <th>10446</th>\n",
              "      <td>Implementation of Tree Kernels in Python</td>\n",
              "      <td>I'm looking to use a tree kernel (e.g. Zelenko...</td>\n",
              "      <td>[machine-learning, python, nlp, statistics]</td>\n",
              "      <td>implementation of tree kernels in python</td>\n",
              "    </tr>\n",
              "    <tr>\n",
              "      <th>10447</th>\n",
              "      <td>Classifier Chains</td>\n",
              "      <td>My question is about creating classifier chain...</td>\n",
              "      <td>[machine-learning]</td>\n",
              "      <td>classifier chains</td>\n",
              "    </tr>\n",
              "    <tr>\n",
              "      <th>10448</th>\n",
              "      <td>Predictive analysis of rare events</td>\n",
              "      <td>I'm trying to predict rare events, meaning les...</td>\n",
              "      <td>[machine-learning, predictive-modeling]</td>\n",
              "      <td>predictive analysis of rare events</td>\n",
              "    </tr>\n",
              "    <tr>\n",
              "      <th>10449</th>\n",
              "      <td>What is the difference between concept learnin...</td>\n",
              "      <td>I've recently read about concept learning in a...</td>\n",
              "      <td>[machine-learning, classification]</td>\n",
              "      <td>what is the difference between concept learnin...</td>\n",
              "    </tr>\n",
              "  </tbody>\n",
              "</table>\n",
              "<p>10450 rows × 4 columns</p>\n",
              "</div>"
            ],
            "text/plain": [
              "                                              Text Title  ...                                 Cleaned Text Title\n",
              "0      Two neural network in tensorflow: TypeError: F...  ...  two neural network in tensorflow typeerror fet...\n",
              "1      How can access to modify feature_importances o...  ...  how can access to modify feature importances o...\n",
              "2      KNN Regression: Distance function for datetime...  ...  knn regression distance function for datetime ...\n",
              "3      Multiple Time Series Forecasting with limited ...  ...  multiple time series forecasting with limited ...\n",
              "4                                      Association Rules  ...                                  association rules\n",
              "...                                                  ...  ...                                                ...\n",
              "10445  How to cluster when samples are independent an...  ...  how to cluster when samples are independent an...\n",
              "10446           Implementation of Tree Kernels in Python  ...           implementation of tree kernels in python\n",
              "10447                                  Classifier Chains  ...                                  classifier chains\n",
              "10448                 Predictive analysis of rare events  ...                 predictive analysis of rare events\n",
              "10449  What is the difference between concept learnin...  ...  what is the difference between concept learnin...\n",
              "\n",
              "[10450 rows x 4 columns]"
            ]
          },
          "metadata": {
            "tags": []
          },
          "execution_count": 26
        }
      ]
    },
    {
      "cell_type": "markdown",
      "metadata": {
        "id": "R6ZkfBCtoX7X"
      },
      "source": [
        "## Remove stop words"
      ]
    },
    {
      "cell_type": "code",
      "metadata": {
        "id": "LMwwwstsG3DB",
        "colab": {
          "base_uri": "https://localhost:8080/",
          "height": 877
        },
        "outputId": "89e95ba6-6848-49ae-d2d6-3740a0397772"
      },
      "source": [
        "def freq_words(x, terms = 30): \n",
        "    all_words = ' '.join([text for text in x]) \n",
        "    all_words = all_words.split() \n",
        "    fdist = nltk.FreqDist(all_words) \n",
        "    words_df = pd.DataFrame({'word':list(fdist.keys()), 'count':list(fdist.values())}) \n",
        "\n",
        "    # selecting top 20 most frequent words \n",
        "    d = words_df.nlargest(columns=\"count\", n = terms) \n",
        "\n",
        "    # visualize words and frequencies\n",
        "    plt.figure(figsize=(12,15)) \n",
        "    ax = sns.barplot(data=d, x= \"count\", y = \"word\") \n",
        "    ax.set(ylabel = 'Word') \n",
        "    plt.show()\n",
        "\n",
        "# print 100 most frequent words \n",
        "freq_words(tags_new['Cleaned Text Title'], 100)"
      ],
      "execution_count": null,
      "outputs": [
        {
          "output_type": "display_data",
          "data": {
            "image/png": "[encoded data removed]",
            "text/plain": [
              "<Figure size 864x1080 with 1 Axes>"
            ]
          },
          "metadata": {
            "tags": [],
            "needs_background": "light"
          }
        }
      ]
    },
    {
      "cell_type": "code",
      "metadata": {
        "id": "mteUdYhGG3DJ",
        "colab": {
          "base_uri": "https://localhost:8080/",
          "height": 67
        },
        "outputId": "77361003-e16e-4350-c33b-6d82c38d8fc7"
      },
      "source": [
        "nltk.download('stopwords')"
      ],
      "execution_count": null,
      "outputs": [
        {
          "output_type": "stream",
          "text": [
            "[nltk_data] Downloading package stopwords to /root/nltk_data...\n",
            "[nltk_data]   Unzipping corpora/stopwords.zip.\n"
          ],
          "name": "stdout"
        },
        {
          "output_type": "execute_result",
          "data": {
            "text/plain": [
              "True"
            ]
          },
          "metadata": {
            "tags": []
          },
          "execution_count": 28
        }
      ]
    },
    {
      "cell_type": "code",
      "metadata": {
        "id": "R3-CHWmXG3DT"
      },
      "source": [
        "from nltk.corpus import stopwords\n",
        "stop_words = set(stopwords.words('english'))\n",
        "\n",
        "# function to remove stopwords\n",
        "def remove_stopwords(text):\n",
        "    no_stopword_text = [w for w in text.split() if not w in stop_words]\n",
        "    return ' '.join(no_stopword_text)\n",
        "\n",
        "tags_new['Cleaned Text Title'] = tags_new['Cleaned Text Title'].apply(lambda x: remove_stopwords(x))"
      ],
      "execution_count": null,
      "outputs": []
    },
    {
      "cell_type": "code",
      "metadata": {
        "id": "gjK7Kxw2G3Db",
        "colab": {
          "base_uri": "https://localhost:8080/",
          "height": 419
        },
        "outputId": "f3e40762-7361-429c-c551-4c1077336995"
      },
      "source": [
        "tags_new"
      ],
      "execution_count": null,
      "outputs": [
        {
          "output_type": "execute_result",
          "data": {
            "text/html": [
              "<div>\n",
              "<style scoped>\n",
              "    .dataframe tbody tr th:only-of-type {\n",
              "        vertical-align: middle;\n",
              "    }\n",
              "\n",
              "    .dataframe tbody tr th {\n",
              "        vertical-align: top;\n",
              "    }\n",
              "\n",
              "    .dataframe thead th {\n",
              "        text-align: right;\n",
              "    }\n",
              "</style>\n",
              "<table border=\"1\" class=\"dataframe\">\n",
              "  <thead>\n",
              "    <tr style=\"text-align: right;\">\n",
              "      <th></th>\n",
              "      <th>Text Title</th>\n",
              "      <th>Text content</th>\n",
              "      <th>Tags</th>\n",
              "      <th>Cleaned Text Title</th>\n",
              "    </tr>\n",
              "  </thead>\n",
              "  <tbody>\n",
              "    <tr>\n",
              "      <th>0</th>\n",
              "      <td>Two neural network in tensorflow: TypeError: F...</td>\n",
              "      <td>I have seen similar problems describes typerro...</td>\n",
              "      <td>[python, neural-network, tensorflow, reinforce...</td>\n",
              "      <td>two neural network tensorflow typeerror fetch ...</td>\n",
              "    </tr>\n",
              "    <tr>\n",
              "      <th>1</th>\n",
              "      <td>How can access to modify feature_importances o...</td>\n",
              "      <td>My goal is to extract the feature importances ...</td>\n",
              "      <td>[python, scikit-learn]</td>\n",
              "      <td>access modify feature importances random fores...</td>\n",
              "    </tr>\n",
              "    <tr>\n",
              "      <th>2</th>\n",
              "      <td>KNN Regression: Distance function for datetime...</td>\n",
              "      <td>Take some datetime features like week days (mo...</td>\n",
              "      <td>[regression]</td>\n",
              "      <td>knn regression distance function datetime feat...</td>\n",
              "    </tr>\n",
              "    <tr>\n",
              "      <th>3</th>\n",
              "      <td>Multiple Time Series Forecasting with limited ...</td>\n",
              "      <td>I'm doing time series forecasting for the sale...</td>\n",
              "      <td>[machine-learning, time-series]</td>\n",
              "      <td>multiple time series forecasting limited data</td>\n",
              "    </tr>\n",
              "    <tr>\n",
              "      <th>4</th>\n",
              "      <td>Association Rules</td>\n",
              "      <td>I'm using association rules for a project and ...</td>\n",
              "      <td>[data-mining]</td>\n",
              "      <td>association rules</td>\n",
              "    </tr>\n",
              "    <tr>\n",
              "      <th>...</th>\n",
              "      <td>...</td>\n",
              "      <td>...</td>\n",
              "      <td>...</td>\n",
              "      <td>...</td>\n",
              "    </tr>\n",
              "    <tr>\n",
              "      <th>10445</th>\n",
              "      <td>How to cluster when samples are independent an...</td>\n",
              "      <td>In machine learning, one can use Euclidean dis...</td>\n",
              "      <td>[machine-learning, data-mining]</td>\n",
              "      <td>cluster samples independent dimensions indepen...</td>\n",
              "    </tr>\n",
              "    <tr>\n",
              "      <th>10446</th>\n",
              "      <td>Implementation of Tree Kernels in Python</td>\n",
              "      <td>I'm looking to use a tree kernel (e.g. Zelenko...</td>\n",
              "      <td>[machine-learning, python, nlp, statistics]</td>\n",
              "      <td>implementation tree kernels python</td>\n",
              "    </tr>\n",
              "    <tr>\n",
              "      <th>10447</th>\n",
              "      <td>Classifier Chains</td>\n",
              "      <td>My question is about creating classifier chain...</td>\n",
              "      <td>[machine-learning]</td>\n",
              "      <td>classifier chains</td>\n",
              "    </tr>\n",
              "    <tr>\n",
              "      <th>10448</th>\n",
              "      <td>Predictive analysis of rare events</td>\n",
              "      <td>I'm trying to predict rare events, meaning les...</td>\n",
              "      <td>[machine-learning, predictive-modeling]</td>\n",
              "      <td>predictive analysis rare events</td>\n",
              "    </tr>\n",
              "    <tr>\n",
              "      <th>10449</th>\n",
              "      <td>What is the difference between concept learnin...</td>\n",
              "      <td>I've recently read about concept learning in a...</td>\n",
              "      <td>[machine-learning, classification]</td>\n",
              "      <td>difference concept learning classification</td>\n",
              "    </tr>\n",
              "  </tbody>\n",
              "</table>\n",
              "<p>10450 rows × 4 columns</p>\n",
              "</div>"
            ],
            "text/plain": [
              "                                              Text Title  ...                                 Cleaned Text Title\n",
              "0      Two neural network in tensorflow: TypeError: F...  ...  two neural network tensorflow typeerror fetch ...\n",
              "1      How can access to modify feature_importances o...  ...  access modify feature importances random fores...\n",
              "2      KNN Regression: Distance function for datetime...  ...  knn regression distance function datetime feat...\n",
              "3      Multiple Time Series Forecasting with limited ...  ...      multiple time series forecasting limited data\n",
              "4                                      Association Rules  ...                                  association rules\n",
              "...                                                  ...  ...                                                ...\n",
              "10445  How to cluster when samples are independent an...  ...  cluster samples independent dimensions indepen...\n",
              "10446           Implementation of Tree Kernels in Python  ...                 implementation tree kernels python\n",
              "10447                                  Classifier Chains  ...                                  classifier chains\n",
              "10448                 Predictive analysis of rare events  ...                    predictive analysis rare events\n",
              "10449  What is the difference between concept learnin...  ...         difference concept learning classification\n",
              "\n",
              "[10450 rows x 4 columns]"
            ]
          },
          "metadata": {
            "tags": []
          },
          "execution_count": 30
        }
      ]
    },
    {
      "cell_type": "code",
      "metadata": {
        "id": "10wKgi2nG3Dk",
        "colab": {
          "base_uri": "https://localhost:8080/",
          "height": 877
        },
        "outputId": "c8046990-10a0-4c3e-9c72-dabc3bfff1cf"
      },
      "source": [
        "freq_words(tags_new['Cleaned Text Title'], 100)"
      ],
      "execution_count": null,
      "outputs": [
        {
          "output_type": "display_data",
          "data": {
            "image/png": "[encoded data removed]",
            "text/plain": [
              "<Figure size 864x1080 with 1 Axes>"
            ]
          },
          "metadata": {
            "tags": [],
            "needs_background": "light"
          }
        }
      ]
    },
    {
      "cell_type": "code",
      "metadata": {
        "id": "4nXGBq8mG3Dt"
      },
      "source": [
        "from sklearn.preprocessing import MultiLabelBinarizer\n",
        "\n",
        "multilabel_binarizer = MultiLabelBinarizer()\n",
        "multilabel_binarizer.fit(tags_new['Tags'])\n",
        "\n",
        "# transform target variable\n",
        "y = multilabel_binarizer.transform(tags_new['Tags'])"
      ],
      "execution_count": null,
      "outputs": []
    },
    {
      "cell_type": "markdown",
      "metadata": {
        "id": "xYcSByAxILjT"
      },
      "source": [
        "# Modelling\n"
      ]
    },
    {
      "cell_type": "code",
      "metadata": {
        "id": "5ERTdXBSG3D7",
        "colab": {
          "base_uri": "https://localhost:8080/",
          "height": 136
        },
        "outputId": "a54ad6cf-1ee5-444c-aa3d-f2bd74d792a8"
      },
      "source": [
        "y"
      ],
      "execution_count": null,
      "outputs": [
        {
          "output_type": "execute_result",
          "data": {
            "text/plain": [
              "array([[0, 0, 0, ..., 1, 0, 0],\n",
              "       [0, 0, 0, ..., 0, 0, 0],\n",
              "       [0, 0, 0, ..., 0, 0, 0],\n",
              "       ...,\n",
              "       [0, 0, 0, ..., 0, 0, 0],\n",
              "       [0, 0, 0, ..., 0, 0, 0],\n",
              "       [1, 0, 0, ..., 0, 0, 0]])"
            ]
          },
          "metadata": {
            "tags": []
          },
          "execution_count": 33
        }
      ]
    },
    {
      "cell_type": "code",
      "metadata": {
        "id": "7hqCKWm2G3EK",
        "colab": {
          "base_uri": "https://localhost:8080/",
          "height": 136
        },
        "outputId": "80f3f2e2-c1d2-4cbe-fadc-ffd2bfc2d431"
      },
      "source": [
        "from sklearn.feature_extraction.text import TfidfVectorizer\n",
        "tfidf_vectorizer = TfidfVectorizer(max_df=0.8, max_features=5000)\n",
        "\n",
        "print(tfidf_vectorizer)"
      ],
      "execution_count": null,
      "outputs": [
        {
          "output_type": "stream",
          "text": [
            "TfidfVectorizer(analyzer='word', binary=False, decode_error='strict',\n",
            "                dtype=<class 'numpy.float64'>, encoding='utf-8',\n",
            "                input='content', lowercase=True, max_df=0.8, max_features=5000,\n",
            "                min_df=1, ngram_range=(1, 1), norm='l2', preprocessor=None,\n",
            "                smooth_idf=True, stop_words=None, strip_accents=None,\n",
            "                sublinear_tf=False, token_pattern='(?u)\\\\b\\\\w\\\\w+\\\\b',\n",
            "                tokenizer=None, use_idf=True, vocabulary=None)\n"
          ],
          "name": "stdout"
        }
      ]
    },
    {
      "cell_type": "code",
      "metadata": {
        "id": "nGGwtCNAG3EY"
      },
      "source": [
        "tfidf_vectorizer\n",
        "import sklearn\n",
        "from sklearn.model_selection import train_test_split\n",
        "\n",
        "from sklearn.feature_extraction.text import CountVectorizer\n",
        "from sklearn.feature_extraction.text import TfidfTransformer\n",
        "from sklearn.pipeline import Pipeline\n",
        "from sklearn.multiclass import OneVsRestClassifier\n",
        "from sklearn.linear_model import SGDClassifier\n",
        "\n",
        "\n",
        "# split dataset into training and validation set\n",
        "xtrain, xval, ytrain, yval = train_test_split(tags_new['Cleaned Text Title'], y, test_size=0.2, random_state=9)\n",
        "\n"
      ],
      "execution_count": null,
      "outputs": []
    },
    {
      "cell_type": "code",
      "metadata": {
        "id": "_aFyMqIRG3FC"
      },
      "source": [
        "# create TF-IDF features\n",
        "xtrain_tfidf = tfidf_vectorizer.fit_transform(xtrain)\n",
        "xval_tfidf = tfidf_vectorizer.transform(xval)"
      ],
      "execution_count": null,
      "outputs": []
    },
    {
      "cell_type": "code",
      "metadata": {
        "id": "S75szAhtG3FW"
      },
      "source": [
        "from sklearn.linear_model import LogisticRegression\n",
        "\n",
        "# Binary Relevance\n",
        "from sklearn.multiclass import OneVsRestClassifier\n",
        "\n",
        "# Performance metric\n",
        "\n",
        "from sklearn import datasets\n",
        "from sklearn.multiclass import OneVsRestClassifier\n",
        "from sklearn.svm import LinearSVC\n",
        "from sklearn.metrics import accuracy_score, f1_score\n",
        "\n"
      ],
      "execution_count": null,
      "outputs": []
    },
    {
      "cell_type": "code",
      "metadata": {
        "id": "DkTXDit4G3Fl"
      },
      "source": [
        "lr = LogisticRegression()\n",
        "clf = OneVsRestClassifier(lr)"
      ],
      "execution_count": null,
      "outputs": []
    },
    {
      "cell_type": "code",
      "metadata": {
        "id": "jgx3NdKwG3F0",
        "colab": {
          "base_uri": "https://localhost:8080/",
          "height": 51
        },
        "outputId": "3a2f039d-5bc4-42fa-f077-41f51493219a"
      },
      "source": [
        "#make prediction for training dataset\n",
        "clf.fit(xtrain_tfidf, ytrain)\n",
        "\n",
        "y_pred_train = clf.predict(xtrain_tfidf)\n",
        "\n",
        "print('Train Accuracy:', accuracy_score(ytrain, y_pred_train))\n",
        "print('Train F1:', f1_score(ytrain, y_pred_train, average='micro'))"
      ],
      "execution_count": null,
      "outputs": [
        {
          "output_type": "stream",
          "text": [
            "Train Accuracy: 0.2297846889952153\n",
            "Train F1: 0.5979872161022712\n"
          ],
          "name": "stdout"
        }
      ]
    },
    {
      "cell_type": "code",
      "metadata": {
        "id": "MYl8kbNPG3GB",
        "colab": {
          "base_uri": "https://localhost:8080/",
          "height": 51
        },
        "outputId": "78091d41-bf7d-4b51-8a78-9bc926793596"
      },
      "source": [
        "# make predictions for validation set\n",
        "y_pred_val = clf.predict(xval_tfidf)\n",
        "print('Train Accuracy:', accuracy_score(yval, y_pred_val))\n",
        "print('Train F1:', f1_score(yval, y_pred_val, average='micro'))"
      ],
      "execution_count": null,
      "outputs": [
        {
          "output_type": "stream",
          "text": [
            "Train Accuracy: 0.21339712918660286\n",
            "Train F1: 0.558215451577802\n"
          ],
          "name": "stdout"
        }
      ]
    },
    {
      "cell_type": "code",
      "metadata": {
        "id": "nRegSVHuG3GU",
        "colab": {
          "base_uri": "https://localhost:8080/",
          "height": 51
        },
        "outputId": "0cef5c35-6bf2-40b1-bff4-64e9d758dc04"
      },
      "source": [
        "y_pred_val[3]"
      ],
      "execution_count": null,
      "outputs": [
        {
          "output_type": "execute_result",
          "data": {
            "text/plain": [
              "array([0, 0, 0, 0, 0, 0, 0, 0, 0, 1, 0, 0, 0, 0, 0, 0, 0, 0, 0, 0, 0, 0,\n",
              "       0, 0, 0])"
            ]
          },
          "metadata": {
            "tags": []
          },
          "execution_count": 42
        }
      ]
    },
    {
      "cell_type": "code",
      "metadata": {
        "id": "mvGQ6CFZG3Gz",
        "colab": {
          "base_uri": "https://localhost:8080/",
          "height": 34
        },
        "outputId": "5b44beef-4059-4ad9-9f5b-830fca3133af"
      },
      "source": [
        "multilabel_binarizer.inverse_transform(y_pred_val)[3]"
      ],
      "execution_count": null,
      "outputs": [
        {
          "output_type": "execute_result",
          "data": {
            "text/plain": [
              "('machine-learning',)"
            ]
          },
          "metadata": {
            "tags": []
          },
          "execution_count": 43
        }
      ]
    },
    {
      "cell_type": "code",
      "metadata": {
        "id": "kzecr2y0G3HA",
        "colab": {
          "base_uri": "https://localhost:8080/",
          "height": 34
        },
        "outputId": "93cb0890-cebb-4b2e-a415-14eff385cbc4"
      },
      "source": [
        "# evaluate performance\n",
        "f1_score(yval, y_pred_val, average=\"micro\")"
      ],
      "execution_count": null,
      "outputs": [
        {
          "output_type": "execute_result",
          "data": {
            "text/plain": [
              "0.558215451577802"
            ]
          },
          "metadata": {
            "tags": []
          },
          "execution_count": 44
        }
      ]
    },
    {
      "cell_type": "code",
      "metadata": {
        "id": "cHtAXr39G3HM"
      },
      "source": [
        "# predict probabilities\n",
        "y_pred_prob = clf.predict_proba(xval_tfidf)"
      ],
      "execution_count": null,
      "outputs": []
    },
    {
      "cell_type": "code",
      "metadata": {
        "id": "u5nt4BrBG3Hd"
      },
      "source": [
        "t = 0.3 # threshold value\n",
        "y_pred_new = (y_pred_prob >= t).astype(int)"
      ],
      "execution_count": null,
      "outputs": []
    },
    {
      "cell_type": "code",
      "metadata": {
        "id": "52_4OruSG3Hy",
        "colab": {
          "base_uri": "https://localhost:8080/",
          "height": 34
        },
        "outputId": "db3d90cf-27c2-4d7f-e41a-e460c239894d"
      },
      "source": [
        "# evaluate performance\n",
        "f1_score(yval, y_pred_new, average=\"micro\")"
      ],
      "execution_count": null,
      "outputs": [
        {
          "output_type": "execute_result",
          "data": {
            "text/plain": [
              "0.6130854318663215"
            ]
          },
          "metadata": {
            "tags": []
          },
          "execution_count": 47
        }
      ]
    },
    {
      "cell_type": "code",
      "metadata": {
        "id": "8wWBEzAwG3IF",
        "colab": {
          "base_uri": "https://localhost:8080/",
          "height": 51
        },
        "outputId": "e4679d94-770c-4955-fb48-69acb2b7a1d0"
      },
      "source": [
        "#print(clf.intercept_)\n",
        "#print(clf.coef_)\n",
        "\n",
        "RSS = np.mean((y_pred_new-yval)**2)/(np.std(yval)**2)\n",
        "Rsq = 1-RSS\n",
        "\n",
        "print(\"RSS per sample = {0:f}\".format(RSS))\n",
        "print(\"R^2 =            {0:f}\".format(Rsq))"
      ],
      "execution_count": null,
      "outputs": [
        {
          "output_type": "stream",
          "text": [
            "RSS per sample = 0.762877\n",
            "R^2 =            0.237123\n"
          ],
          "name": "stdout"
        }
      ]
    },
    {
      "cell_type": "code",
      "metadata": {
        "id": "QdIRWThJG3IU"
      },
      "source": [
        "def infer_tags(q):\n",
        "    q = clean_text(q)\n",
        "    q = remove_stopwords(q)\n",
        "    q_vec = tfidf_vectorizer.transform([q])\n",
        "    q_pred = clf.predict(q_vec)\n",
        "    return multilabel_binarizer.inverse_transform(q_pred)"
      ],
      "execution_count": null,
      "outputs": []
    },
    {
      "cell_type": "code",
      "metadata": {
        "id": "ku-Oz31rG3Ig",
        "colab": {
          "base_uri": "https://localhost:8080/",
          "height": 419
        },
        "outputId": "01b20750-0ebc-4c1c-a204-dfb406a01f91"
      },
      "source": [
        "tags_new"
      ],
      "execution_count": null,
      "outputs": [
        {
          "output_type": "execute_result",
          "data": {
            "text/html": [
              "<div>\n",
              "<style scoped>\n",
              "    .dataframe tbody tr th:only-of-type {\n",
              "        vertical-align: middle;\n",
              "    }\n",
              "\n",
              "    .dataframe tbody tr th {\n",
              "        vertical-align: top;\n",
              "    }\n",
              "\n",
              "    .dataframe thead th {\n",
              "        text-align: right;\n",
              "    }\n",
              "</style>\n",
              "<table border=\"1\" class=\"dataframe\">\n",
              "  <thead>\n",
              "    <tr style=\"text-align: right;\">\n",
              "      <th></th>\n",
              "      <th>Text Title</th>\n",
              "      <th>Text content</th>\n",
              "      <th>Tags</th>\n",
              "      <th>Cleaned Text Title</th>\n",
              "    </tr>\n",
              "  </thead>\n",
              "  <tbody>\n",
              "    <tr>\n",
              "      <th>0</th>\n",
              "      <td>Two neural network in tensorflow: TypeError: F...</td>\n",
              "      <td>I have seen similar problems describes typerro...</td>\n",
              "      <td>[python, neural-network, tensorflow, reinforce...</td>\n",
              "      <td>two neural network tensorflow typeerror fetch ...</td>\n",
              "    </tr>\n",
              "    <tr>\n",
              "      <th>1</th>\n",
              "      <td>How can access to modify feature_importances o...</td>\n",
              "      <td>My goal is to extract the feature importances ...</td>\n",
              "      <td>[python, scikit-learn]</td>\n",
              "      <td>access modify feature importances random fores...</td>\n",
              "    </tr>\n",
              "    <tr>\n",
              "      <th>2</th>\n",
              "      <td>KNN Regression: Distance function for datetime...</td>\n",
              "      <td>Take some datetime features like week days (mo...</td>\n",
              "      <td>[regression]</td>\n",
              "      <td>knn regression distance function datetime feat...</td>\n",
              "    </tr>\n",
              "    <tr>\n",
              "      <th>3</th>\n",
              "      <td>Multiple Time Series Forecasting with limited ...</td>\n",
              "      <td>I'm doing time series forecasting for the sale...</td>\n",
              "      <td>[machine-learning, time-series]</td>\n",
              "      <td>multiple time series forecasting limited data</td>\n",
              "    </tr>\n",
              "    <tr>\n",
              "      <th>4</th>\n",
              "      <td>Association Rules</td>\n",
              "      <td>I'm using association rules for a project and ...</td>\n",
              "      <td>[data-mining]</td>\n",
              "      <td>association rules</td>\n",
              "    </tr>\n",
              "    <tr>\n",
              "      <th>...</th>\n",
              "      <td>...</td>\n",
              "      <td>...</td>\n",
              "      <td>...</td>\n",
              "      <td>...</td>\n",
              "    </tr>\n",
              "    <tr>\n",
              "      <th>10445</th>\n",
              "      <td>How to cluster when samples are independent an...</td>\n",
              "      <td>In machine learning, one can use Euclidean dis...</td>\n",
              "      <td>[machine-learning, data-mining]</td>\n",
              "      <td>cluster samples independent dimensions indepen...</td>\n",
              "    </tr>\n",
              "    <tr>\n",
              "      <th>10446</th>\n",
              "      <td>Implementation of Tree Kernels in Python</td>\n",
              "      <td>I'm looking to use a tree kernel (e.g. Zelenko...</td>\n",
              "      <td>[machine-learning, python, nlp, statistics]</td>\n",
              "      <td>implementation tree kernels python</td>\n",
              "    </tr>\n",
              "    <tr>\n",
              "      <th>10447</th>\n",
              "      <td>Classifier Chains</td>\n",
              "      <td>My question is about creating classifier chain...</td>\n",
              "      <td>[machine-learning]</td>\n",
              "      <td>classifier chains</td>\n",
              "    </tr>\n",
              "    <tr>\n",
              "      <th>10448</th>\n",
              "      <td>Predictive analysis of rare events</td>\n",
              "      <td>I'm trying to predict rare events, meaning les...</td>\n",
              "      <td>[machine-learning, predictive-modeling]</td>\n",
              "      <td>predictive analysis rare events</td>\n",
              "    </tr>\n",
              "    <tr>\n",
              "      <th>10449</th>\n",
              "      <td>What is the difference between concept learnin...</td>\n",
              "      <td>I've recently read about concept learning in a...</td>\n",
              "      <td>[machine-learning, classification]</td>\n",
              "      <td>difference concept learning classification</td>\n",
              "    </tr>\n",
              "  </tbody>\n",
              "</table>\n",
              "<p>10450 rows × 4 columns</p>\n",
              "</div>"
            ],
            "text/plain": [
              "                                              Text Title  ...                                 Cleaned Text Title\n",
              "0      Two neural network in tensorflow: TypeError: F...  ...  two neural network tensorflow typeerror fetch ...\n",
              "1      How can access to modify feature_importances o...  ...  access modify feature importances random fores...\n",
              "2      KNN Regression: Distance function for datetime...  ...  knn regression distance function datetime feat...\n",
              "3      Multiple Time Series Forecasting with limited ...  ...      multiple time series forecasting limited data\n",
              "4                                      Association Rules  ...                                  association rules\n",
              "...                                                  ...  ...                                                ...\n",
              "10445  How to cluster when samples are independent an...  ...  cluster samples independent dimensions indepen...\n",
              "10446           Implementation of Tree Kernels in Python  ...                 implementation tree kernels python\n",
              "10447                                  Classifier Chains  ...                                  classifier chains\n",
              "10448                 Predictive analysis of rare events  ...                    predictive analysis rare events\n",
              "10449  What is the difference between concept learnin...  ...         difference concept learning classification\n",
              "\n",
              "[10450 rows x 4 columns]"
            ]
          },
          "metadata": {
            "tags": []
          },
          "execution_count": 50
        }
      ]
    },
    {
      "cell_type": "code",
      "metadata": {
        "id": "zwPhd6HgG3Iu",
        "colab": {
          "base_uri": "https://localhost:8080/",
          "height": 1000
        },
        "outputId": "5b9249bd-6ef4-4487-aeb2-20c53a4f81d3"
      },
      "source": [
        "for i in range(30): \n",
        "    k = xval.sample(1).index[0] \n",
        "    print(\"Tags: \", tags_new['Text Title'][k], \"\\nPredicted tags: \", infer_tags(xval[k])), print(\"Actual tags: \",tags_new['Tags'][k], \"\\n\")\n"
      ],
      "execution_count": null,
      "outputs": [
        {
          "output_type": "stream",
          "text": [
            "Tags:  Combining neural networks with different variables \n",
            "Predicted tags:  [('machine-learning', 'neural-network')]\n",
            "Actual tags:  ['machine-learning', 'neural-network'] \n",
            "\n",
            "Tags:  Learning to Rank Application \n",
            "Predicted tags:  [('machine-learning',)]\n",
            "Actual tags:  ['machine-learning'] \n",
            "\n",
            "Tags:  Can a trained Vid2Vid model be run on AMDs Ryzen 2700x with 32GB of RAM? \n",
            "Predicted tags:  [('machine-learning',)]\n",
            "Actual tags:  ['deep-learning'] \n",
            "\n",
            "Tags:  Overfitting in CNN \n",
            "Predicted tags:  [('cnn', 'machine-learning')]\n",
            "Actual tags:  ['machine-learning', 'deep-learning', 'neural-network', 'tensorflow'] \n",
            "\n",
            "Tags:  How does a zero centered activation functions like tanh helps in gradient decent? \n",
            "Predicted tags:  [('deep-learning', 'machine-learning')]\n",
            "Actual tags:  ['machine-learning'] \n",
            "\n",
            "Tags:  Add new attribute to the input of nerual network \n",
            "Predicted tags:  [()]\n",
            "Actual tags:  ['machine-learning', 'deep-learning', 'neural-network'] \n",
            "\n",
            "Tags:  Problem fitting data using mlpregressor \n",
            "Predicted tags:  [('machine-learning',)]\n",
            "Actual tags:  ['python', 'regression'] \n",
            "\n",
            "Tags:  what machine/deep learning/ nlp techniques are used to classify a given words as name, mobile number, address, email, state, county, city etc \n",
            "Predicted tags:  [('deep-learning', 'machine-learning')]\n",
            "Actual tags:  ['machine-learning', 'deep-learning'] \n",
            "\n",
            "Tags:  Autoencoder why it is special for image decoding? \n",
            "Predicted tags:  [('deep-learning', 'machine-learning')]\n",
            "Actual tags:  ['machine-learning', 'keras', 'neural-networks', 'convolutional-neural-networks'] \n",
            "\n",
            "Tags:  Store's unseen items sales forecasting \n",
            "Predicted tags:  [('machine-learning',)]\n",
            "Actual tags:  ['machine-learning', 'predictive-modeling', 'statistics'] \n",
            "\n",
            "Tags:  How would researchers determine the best deep learning model if every run of the code yields different results? \n",
            "Predicted tags:  [('deep-learning', 'machine-learning')]\n",
            "Actual tags:  ['deep-learning', 'reinforcement-learning'] \n",
            "\n",
            "Tags:  Is the probabilistic cutoff in random forest flexible? \n",
            "Predicted tags:  [('machine-learning',)]\n",
            "Actual tags:  ['machine-learning'] \n",
            "\n",
            "Tags:  Problem in Recommendation for categorical data? \n",
            "Predicted tags:  [('machine-learning',)]\n",
            "Actual tags:  ['machine-learning', 'python'] \n",
            "\n",
            "Tags:  What is this type of plot and how to interpret it? \n",
            "Predicted tags:  [('machine-learning',)]\n",
            "Actual tags:  ['machine-learning', 'statistics'] \n",
            "\n",
            "Tags:  How to deal with very, very small time-series? \n",
            "Predicted tags:  [('machine-learning', 'time-series')]\n",
            "Actual tags:  ['python', 'time-series'] \n",
            "\n",
            "Tags:  Automatically assess training data quality for land cover classification system \n",
            "Predicted tags:  [('machine-learning',)]\n",
            "Actual tags:  ['machine-learning', 'python', 'computer-vision'] \n",
            "\n",
            "Tags:  Setting BATCH SIZE when performing multi-class classification with imbalanced dataset \n",
            "Predicted tags:  [('machine-learning',)]\n",
            "Actual tags:  ['machine-learning', 'deep-learning', 'training'] \n",
            "\n",
            "Tags:  Why is the derivative of the activation functions in neural networks important? \n",
            "Predicted tags:  [('deep-learning', 'neural-network')]\n",
            "Actual tags:  ['machine-learning', 'deep-learning', 'neural-networks'] \n",
            "\n",
            "Tags:  When do SARSA and Q-Learning converge to optimal Q values? \n",
            "Predicted tags:  [('machine-learning',)]\n",
            "Actual tags:  ['reinforcement-learning'] \n",
            "\n",
            "Tags:  What is the effect of the use of online-learning algorithms on non steaming data? \n",
            "Predicted tags:  [('machine-learning',)]\n",
            "Actual tags:  ['machine-learning'] \n",
            "\n",
            "Tags:  How do I deal with an erratic validation set loss when the loss on my training set is monotonically decreasing? \n",
            "Predicted tags:  [('machine-learning',)]\n",
            "Actual tags:  ['deep-learning', 'classification', 'keras', 'convolutional-neural-networks'] \n",
            "\n",
            "Tags:  Purpose of backpropagation in neural networks \n",
            "Predicted tags:  [('deep-learning', 'machine-learning', 'neural-network')]\n",
            "Actual tags:  ['machine-learning', 'neural-network'] \n",
            "\n",
            "Tags:  Extract title from xml file using python [closed] \n",
            "Predicted tags:  [('machine-learning', 'python')]\n",
            "Actual tags:  ['machine-learning', 'python'] \n",
            "\n",
            "Tags:  R: machine learning on GPU \n",
            "Predicted tags:  [('machine-learning',)]\n",
            "Actual tags:  ['machine-learning', 'r'] \n",
            "\n",
            "Tags:  The differences between SVM and Logistic Regression \n",
            "Predicted tags:  [('machine-learning',)]\n",
            "Actual tags:  ['machine-learning', 'classification'] \n",
            "\n",
            "Tags:  How to classify named entities of the same type? \n",
            "Predicted tags:  [('machine-learning',)]\n",
            "Actual tags:  ['machine-learning', 'nlp'] \n",
            "\n",
            "Tags:  How can I predict call traffic for the telecom company [closed] \n",
            "Predicted tags:  [('machine-learning',)]\n",
            "Actual tags:  ['machine-learning'] \n",
            "\n",
            "Tags:  Natural Language Processing: Identifying Words That Are Out of Place? \n",
            "Predicted tags:  [('machine-learning', 'natural-language-processing')]\n",
            "Actual tags:  ['machine-learning'] \n",
            "\n",
            "Tags:  Machine learning model to predict the best candidate \n",
            "Predicted tags:  [('machine-learning',)]\n",
            "Actual tags:  ['machine-learning', 'neural-network', 'machine-learning-model'] \n",
            "\n",
            "Tags:  migrating to python from R: specific questions \n",
            "Predicted tags:  [('machine-learning', 'python')]\n",
            "Actual tags:  ['machine-learning', 'python', 'scikit-learn'] \n",
            "\n"
          ],
          "name": "stdout"
        }
      ]
    },
    {
      "cell_type": "markdown",
      "metadata": {
        "id": "Qq9yN2sjJu_y"
      },
      "source": [
        "#Custom Text for prediction:"
      ]
    },
    {
      "cell_type": "code",
      "metadata": {
        "id": "2rJeyhz-G3JW",
        "colab": {
          "base_uri": "https://localhost:8080/",
          "height": 148
        },
        "outputId": "73ea3b20-a6d6-4e85-ba6b-8255d816aafc"
      },
      "source": [
        "array=[]\n",
        "print(\"enter no. of texts you wanted to predict?\")\n",
        "n=int(input())\n",
        "for i in range(n):\n",
        "  print(\"Enter your Text:\"+str(i+1))\n",
        "  array.append(str(input()))\n",
        "\n",
        "#array=[\"Using neural-networks, deep learning and machine learning makes my life easier\",\"python is easier than javascript while doing machine learning\"]\n",
        "dataframe=pd.DataFrame(array, columns=[\"Text Title\"])\n",
        "dataframe"
      ],
      "execution_count": null,
      "outputs": [
        {
          "output_type": "stream",
          "text": [
            "enter no. of texts you wanted to predict?\n",
            "1\n",
            "Enter your Text:1\n",
            "Hello mates, how do you do this in keras?\n"
          ],
          "name": "stdout"
        },
        {
          "output_type": "execute_result",
          "data": {
            "text/html": [
              "<div>\n",
              "<style scoped>\n",
              "    .dataframe tbody tr th:only-of-type {\n",
              "        vertical-align: middle;\n",
              "    }\n",
              "\n",
              "    .dataframe tbody tr th {\n",
              "        vertical-align: top;\n",
              "    }\n",
              "\n",
              "    .dataframe thead th {\n",
              "        text-align: right;\n",
              "    }\n",
              "</style>\n",
              "<table border=\"1\" class=\"dataframe\">\n",
              "  <thead>\n",
              "    <tr style=\"text-align: right;\">\n",
              "      <th></th>\n",
              "      <th>Text Title</th>\n",
              "    </tr>\n",
              "  </thead>\n",
              "  <tbody>\n",
              "    <tr>\n",
              "      <th>0</th>\n",
              "      <td>Hello mates, how do you do this in keras?</td>\n",
              "    </tr>\n",
              "  </tbody>\n",
              "</table>\n",
              "</div>"
            ],
            "text/plain": [
              "                                  Text Title\n",
              "0  Hello mates, how do you do this in keras?"
            ]
          },
          "metadata": {
            "tags": []
          },
          "execution_count": 52
        }
      ]
    },
    {
      "cell_type": "code",
      "metadata": {
        "id": "CHnU5H1BG3KP",
        "colab": {
          "base_uri": "https://localhost:8080/",
          "height": 50
        },
        "outputId": "52627a88-fd37-4881-c208-b8c71d732e8f"
      },
      "source": [
        "for i in range(n):\n",
        "    print(\"Tags: \", dataframe['Text Title'][i], \"\\nPredicted tags: \", infer_tags(dataframe['Text Title'][i]))"
      ],
      "execution_count": null,
      "outputs": [
        {
          "output_type": "stream",
          "text": [
            "Tags:  Hello mates, how do you do this in keras? \n",
            "Predicted tags:  [('keras', 'machine-learning', 'python', 'tensorflow')]\n"
          ],
          "name": "stdout"
        }
      ]
    },
    {
      "cell_type": "code",
      "metadata": {
        "id": "c-mHdN5OG3Lu"
      },
      "source": [
        ""
      ],
      "execution_count": null,
      "outputs": []
    }
  ]
}